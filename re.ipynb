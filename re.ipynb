{
  "nbformat": 4,
  "nbformat_minor": 0,
  "metadata": {
    "colab": {
      "provenance": [],
      "authorship_tag": "ABX9TyOFYwpusmP620FzoFCr82Pt",
      "include_colab_link": true
    },
    "kernelspec": {
      "name": "python3",
      "display_name": "Python 3"
    },
    "language_info": {
      "name": "python"
    }
  },
  "cells": [
    {
      "cell_type": "markdown",
      "metadata": {
        "id": "view-in-github",
        "colab_type": "text"
      },
      "source": [
        "<a href=\"https://colab.research.google.com/github/queenakki/AI-ML/blob/project/re.ipynb\" target=\"_parent\"><img src=\"https://colab.research.google.com/assets/colab-badge.svg\" alt=\"Open In Colab\"/></a>"
      ]
    },
    {
      "cell_type": "markdown",
      "source": [
        "# **Stock market data of Tata , Reliance , Amazon companies**"
      ],
      "metadata": {
        "id": "oSvnO6QFGTEm"
      }
    },
    {
      "cell_type": "code",
      "execution_count": 96,
      "metadata": {
        "id": "_SXBOuJhGR8n"
      },
      "outputs": [],
      "source": [
        "import pandas as pd\n",
        "import numpy as ny\n",
        "import matplotlib.pyplot as mlt"
      ]
    },
    {
      "cell_type": "markdown",
      "source": [
        "# **importing the data**"
      ],
      "metadata": {
        "id": "DaKvN7GVG-lu"
      }
    },
    {
      "cell_type": "code",
      "source": [
        "from google.colab import drive\n",
        "drive.mount('/content/drive')"
      ],
      "metadata": {
        "colab": {
          "base_uri": "https://localhost:8080/"
        },
        "id": "zy44-BPMG9oL",
        "outputId": "5f9aeee4-cc75-4fb7-c552-c7f20a21045f"
      },
      "execution_count": 97,
      "outputs": [
        {
          "output_type": "stream",
          "name": "stdout",
          "text": [
            "Drive already mounted at /content/drive; to attempt to forcibly remount, call drive.mount(\"/content/drive\", force_remount=True).\n"
          ]
        }
      ]
    },
    {
      "cell_type": "markdown",
      "source": [
        "# **Loading the data**"
      ],
      "metadata": {
        "id": "K_X5Xr_4VEJN"
      }
    },
    {
      "cell_type": "code",
      "source": [
        "stock=pd.read_csv(\"/content/drive/MyDrive/RELIANCE.NS.csv\")\n",
        "stock.head()"
      ],
      "metadata": {
        "colab": {
          "base_uri": "https://localhost:8080/",
          "height": 206
        },
        "id": "MdSL0drdHfzE",
        "outputId": "993aa779-6eda-4376-e7d8-637aac28fe5d"
      },
      "execution_count": 98,
      "outputs": [
        {
          "output_type": "execute_result",
          "data": {
            "text/plain": [
              "       Date       Open       High        Low      Close  Adj Close      Volume\n",
              "0  1/1/1996  15.859429  16.783918  11.763055  13.673923   9.001143  3587399513\n",
              "1  2/1/1996  13.538537  18.950085  13.499856  16.389366  10.788639  6910292355\n",
              "2  3/1/1996  16.517015  18.412411  14.892391  16.002550  10.534009  5434431895\n",
              "3  4/1/1996  16.072178  20.307806  15.936792  18.926874  12.459007  4130762758\n",
              "4  5/1/1996  20.655939  20.880293  17.449242  18.439487  12.138176  5496793040"
            ],
            "text/html": [
              "\n",
              "  <div id=\"df-b6f5b9cc-9011-474c-ac7a-685f676d69ca\">\n",
              "    <div class=\"colab-df-container\">\n",
              "      <div>\n",
              "<style scoped>\n",
              "    .dataframe tbody tr th:only-of-type {\n",
              "        vertical-align: middle;\n",
              "    }\n",
              "\n",
              "    .dataframe tbody tr th {\n",
              "        vertical-align: top;\n",
              "    }\n",
              "\n",
              "    .dataframe thead th {\n",
              "        text-align: right;\n",
              "    }\n",
              "</style>\n",
              "<table border=\"1\" class=\"dataframe\">\n",
              "  <thead>\n",
              "    <tr style=\"text-align: right;\">\n",
              "      <th></th>\n",
              "      <th>Date</th>\n",
              "      <th>Open</th>\n",
              "      <th>High</th>\n",
              "      <th>Low</th>\n",
              "      <th>Close</th>\n",
              "      <th>Adj Close</th>\n",
              "      <th>Volume</th>\n",
              "    </tr>\n",
              "  </thead>\n",
              "  <tbody>\n",
              "    <tr>\n",
              "      <th>0</th>\n",
              "      <td>1/1/1996</td>\n",
              "      <td>15.859429</td>\n",
              "      <td>16.783918</td>\n",
              "      <td>11.763055</td>\n",
              "      <td>13.673923</td>\n",
              "      <td>9.001143</td>\n",
              "      <td>3587399513</td>\n",
              "    </tr>\n",
              "    <tr>\n",
              "      <th>1</th>\n",
              "      <td>2/1/1996</td>\n",
              "      <td>13.538537</td>\n",
              "      <td>18.950085</td>\n",
              "      <td>13.499856</td>\n",
              "      <td>16.389366</td>\n",
              "      <td>10.788639</td>\n",
              "      <td>6910292355</td>\n",
              "    </tr>\n",
              "    <tr>\n",
              "      <th>2</th>\n",
              "      <td>3/1/1996</td>\n",
              "      <td>16.517015</td>\n",
              "      <td>18.412411</td>\n",
              "      <td>14.892391</td>\n",
              "      <td>16.002550</td>\n",
              "      <td>10.534009</td>\n",
              "      <td>5434431895</td>\n",
              "    </tr>\n",
              "    <tr>\n",
              "      <th>3</th>\n",
              "      <td>4/1/1996</td>\n",
              "      <td>16.072178</td>\n",
              "      <td>20.307806</td>\n",
              "      <td>15.936792</td>\n",
              "      <td>18.926874</td>\n",
              "      <td>12.459007</td>\n",
              "      <td>4130762758</td>\n",
              "    </tr>\n",
              "    <tr>\n",
              "      <th>4</th>\n",
              "      <td>5/1/1996</td>\n",
              "      <td>20.655939</td>\n",
              "      <td>20.880293</td>\n",
              "      <td>17.449242</td>\n",
              "      <td>18.439487</td>\n",
              "      <td>12.138176</td>\n",
              "      <td>5496793040</td>\n",
              "    </tr>\n",
              "  </tbody>\n",
              "</table>\n",
              "</div>\n",
              "      <button class=\"colab-df-convert\" onclick=\"convertToInteractive('df-b6f5b9cc-9011-474c-ac7a-685f676d69ca')\"\n",
              "              title=\"Convert this dataframe to an interactive table.\"\n",
              "              style=\"display:none;\">\n",
              "        \n",
              "  <svg xmlns=\"http://www.w3.org/2000/svg\" height=\"24px\"viewBox=\"0 0 24 24\"\n",
              "       width=\"24px\">\n",
              "    <path d=\"M0 0h24v24H0V0z\" fill=\"none\"/>\n",
              "    <path d=\"M18.56 5.44l.94 2.06.94-2.06 2.06-.94-2.06-.94-.94-2.06-.94 2.06-2.06.94zm-11 1L8.5 8.5l.94-2.06 2.06-.94-2.06-.94L8.5 2.5l-.94 2.06-2.06.94zm10 10l.94 2.06.94-2.06 2.06-.94-2.06-.94-.94-2.06-.94 2.06-2.06.94z\"/><path d=\"M17.41 7.96l-1.37-1.37c-.4-.4-.92-.59-1.43-.59-.52 0-1.04.2-1.43.59L10.3 9.45l-7.72 7.72c-.78.78-.78 2.05 0 2.83L4 21.41c.39.39.9.59 1.41.59.51 0 1.02-.2 1.41-.59l7.78-7.78 2.81-2.81c.8-.78.8-2.07 0-2.86zM5.41 20L4 18.59l7.72-7.72 1.47 1.35L5.41 20z\"/>\n",
              "  </svg>\n",
              "      </button>\n",
              "      \n",
              "  <style>\n",
              "    .colab-df-container {\n",
              "      display:flex;\n",
              "      flex-wrap:wrap;\n",
              "      gap: 12px;\n",
              "    }\n",
              "\n",
              "    .colab-df-convert {\n",
              "      background-color: #E8F0FE;\n",
              "      border: none;\n",
              "      border-radius: 50%;\n",
              "      cursor: pointer;\n",
              "      display: none;\n",
              "      fill: #1967D2;\n",
              "      height: 32px;\n",
              "      padding: 0 0 0 0;\n",
              "      width: 32px;\n",
              "    }\n",
              "\n",
              "    .colab-df-convert:hover {\n",
              "      background-color: #E2EBFA;\n",
              "      box-shadow: 0px 1px 2px rgba(60, 64, 67, 0.3), 0px 1px 3px 1px rgba(60, 64, 67, 0.15);\n",
              "      fill: #174EA6;\n",
              "    }\n",
              "\n",
              "    [theme=dark] .colab-df-convert {\n",
              "      background-color: #3B4455;\n",
              "      fill: #D2E3FC;\n",
              "    }\n",
              "\n",
              "    [theme=dark] .colab-df-convert:hover {\n",
              "      background-color: #434B5C;\n",
              "      box-shadow: 0px 1px 3px 1px rgba(0, 0, 0, 0.15);\n",
              "      filter: drop-shadow(0px 1px 2px rgba(0, 0, 0, 0.3));\n",
              "      fill: #FFFFFF;\n",
              "    }\n",
              "  </style>\n",
              "\n",
              "      <script>\n",
              "        const buttonEl =\n",
              "          document.querySelector('#df-b6f5b9cc-9011-474c-ac7a-685f676d69ca button.colab-df-convert');\n",
              "        buttonEl.style.display =\n",
              "          google.colab.kernel.accessAllowed ? 'block' : 'none';\n",
              "\n",
              "        async function convertToInteractive(key) {\n",
              "          const element = document.querySelector('#df-b6f5b9cc-9011-474c-ac7a-685f676d69ca');\n",
              "          const dataTable =\n",
              "            await google.colab.kernel.invokeFunction('convertToInteractive',\n",
              "                                                     [key], {});\n",
              "          if (!dataTable) return;\n",
              "\n",
              "          const docLinkHtml = 'Like what you see? Visit the ' +\n",
              "            '<a target=\"_blank\" href=https://colab.research.google.com/notebooks/data_table.ipynb>data table notebook</a>'\n",
              "            + ' to learn more about interactive tables.';\n",
              "          element.innerHTML = '';\n",
              "          dataTable['output_type'] = 'display_data';\n",
              "          await google.colab.output.renderOutput(dataTable, element);\n",
              "          const docLink = document.createElement('div');\n",
              "          docLink.innerHTML = docLinkHtml;\n",
              "          element.appendChild(docLink);\n",
              "        }\n",
              "      </script>\n",
              "    </div>\n",
              "  </div>\n",
              "  "
            ]
          },
          "metadata": {},
          "execution_count": 98
        }
      ]
    },
    {
      "cell_type": "markdown",
      "source": [
        "# **satestical information**"
      ],
      "metadata": {
        "id": "fjCUCbI0VIa9"
      }
    },
    {
      "cell_type": "code",
      "source": [
        "stock.shape"
      ],
      "metadata": {
        "colab": {
          "base_uri": "https://localhost:8080/"
        },
        "id": "2waUxiI9IRud",
        "outputId": "31e6209d-9269-49b0-9834-a3a6f5614f49"
      },
      "execution_count": 99,
      "outputs": [
        {
          "output_type": "execute_result",
          "data": {
            "text/plain": [
              "(325, 7)"
            ]
          },
          "metadata": {},
          "execution_count": 99
        }
      ]
    },
    {
      "cell_type": "code",
      "source": [
        "stock.info()"
      ],
      "metadata": {
        "colab": {
          "base_uri": "https://localhost:8080/"
        },
        "id": "g7At6BozIoEv",
        "outputId": "de7a7bf8-f145-4ffd-9fd6-27c1e7bdc5b1"
      },
      "execution_count": 100,
      "outputs": [
        {
          "output_type": "stream",
          "name": "stdout",
          "text": [
            "<class 'pandas.core.frame.DataFrame'>\n",
            "RangeIndex: 325 entries, 0 to 324\n",
            "Data columns (total 7 columns):\n",
            " #   Column     Non-Null Count  Dtype  \n",
            "---  ------     --------------  -----  \n",
            " 0   Date       325 non-null    object \n",
            " 1   Open       325 non-null    float64\n",
            " 2   High       325 non-null    float64\n",
            " 3   Low        325 non-null    float64\n",
            " 4   Close      325 non-null    float64\n",
            " 5   Adj Close  325 non-null    float64\n",
            " 6   Volume     325 non-null    int64  \n",
            "dtypes: float64(5), int64(1), object(1)\n",
            "memory usage: 17.9+ KB\n"
          ]
        }
      ]
    },
    {
      "cell_type": "markdown",
      "source": [
        "pie chart"
      ],
      "metadata": {
        "id": "59fnRrVfQphb"
      }
    },
    {
      "cell_type": "markdown",
      "source": [
        "# **Binary conversion**"
      ],
      "metadata": {
        "id": "dXcncGn7_FD6"
      }
    },
    {
      "cell_type": "code",
      "source": [
        "timefmt = \"%d/%m/%y %S:%M:%H\" \n",
        "stock['Date'] = pd.to_datetime(stock['Date'], format = timefmt, errors='coerce')"
      ],
      "metadata": {
        "id": "BBCxsBueJaCp"
      },
      "execution_count": 32,
      "outputs": []
    },
    {
      "cell_type": "code",
      "source": [
        "stock.head()"
      ],
      "metadata": {
        "colab": {
          "base_uri": "https://localhost:8080/",
          "height": 206
        },
        "id": "5RpsgDwYCu8O",
        "outputId": "c4779384-c39a-445d-f33f-848bc4458b29"
      },
      "execution_count": 33,
      "outputs": [
        {
          "output_type": "execute_result",
          "data": {
            "text/plain": [
              "  Date       Open       High        Low      Close  Adj Close      Volume\n",
              "0  NaT  15.859429  16.783918  11.763055  13.673923   9.001143  3587399513\n",
              "1  NaT  13.538537  18.950085  13.499856  16.389366  10.788639  6910292355\n",
              "2  NaT  16.517015  18.412411  14.892391  16.002550  10.534009  5434431895\n",
              "3  NaT  16.072178  20.307806  15.936792  18.926874  12.459007  4130762758\n",
              "4  NaT  20.655939  20.880293  17.449242  18.439487  12.138176  5496793040"
            ],
            "text/html": [
              "\n",
              "  <div id=\"df-79a8dd83-349e-4b4c-a04f-3e0d0d9f8488\">\n",
              "    <div class=\"colab-df-container\">\n",
              "      <div>\n",
              "<style scoped>\n",
              "    .dataframe tbody tr th:only-of-type {\n",
              "        vertical-align: middle;\n",
              "    }\n",
              "\n",
              "    .dataframe tbody tr th {\n",
              "        vertical-align: top;\n",
              "    }\n",
              "\n",
              "    .dataframe thead th {\n",
              "        text-align: right;\n",
              "    }\n",
              "</style>\n",
              "<table border=\"1\" class=\"dataframe\">\n",
              "  <thead>\n",
              "    <tr style=\"text-align: right;\">\n",
              "      <th></th>\n",
              "      <th>Date</th>\n",
              "      <th>Open</th>\n",
              "      <th>High</th>\n",
              "      <th>Low</th>\n",
              "      <th>Close</th>\n",
              "      <th>Adj Close</th>\n",
              "      <th>Volume</th>\n",
              "    </tr>\n",
              "  </thead>\n",
              "  <tbody>\n",
              "    <tr>\n",
              "      <th>0</th>\n",
              "      <td>NaT</td>\n",
              "      <td>15.859429</td>\n",
              "      <td>16.783918</td>\n",
              "      <td>11.763055</td>\n",
              "      <td>13.673923</td>\n",
              "      <td>9.001143</td>\n",
              "      <td>3587399513</td>\n",
              "    </tr>\n",
              "    <tr>\n",
              "      <th>1</th>\n",
              "      <td>NaT</td>\n",
              "      <td>13.538537</td>\n",
              "      <td>18.950085</td>\n",
              "      <td>13.499856</td>\n",
              "      <td>16.389366</td>\n",
              "      <td>10.788639</td>\n",
              "      <td>6910292355</td>\n",
              "    </tr>\n",
              "    <tr>\n",
              "      <th>2</th>\n",
              "      <td>NaT</td>\n",
              "      <td>16.517015</td>\n",
              "      <td>18.412411</td>\n",
              "      <td>14.892391</td>\n",
              "      <td>16.002550</td>\n",
              "      <td>10.534009</td>\n",
              "      <td>5434431895</td>\n",
              "    </tr>\n",
              "    <tr>\n",
              "      <th>3</th>\n",
              "      <td>NaT</td>\n",
              "      <td>16.072178</td>\n",
              "      <td>20.307806</td>\n",
              "      <td>15.936792</td>\n",
              "      <td>18.926874</td>\n",
              "      <td>12.459007</td>\n",
              "      <td>4130762758</td>\n",
              "    </tr>\n",
              "    <tr>\n",
              "      <th>4</th>\n",
              "      <td>NaT</td>\n",
              "      <td>20.655939</td>\n",
              "      <td>20.880293</td>\n",
              "      <td>17.449242</td>\n",
              "      <td>18.439487</td>\n",
              "      <td>12.138176</td>\n",
              "      <td>5496793040</td>\n",
              "    </tr>\n",
              "  </tbody>\n",
              "</table>\n",
              "</div>\n",
              "      <button class=\"colab-df-convert\" onclick=\"convertToInteractive('df-79a8dd83-349e-4b4c-a04f-3e0d0d9f8488')\"\n",
              "              title=\"Convert this dataframe to an interactive table.\"\n",
              "              style=\"display:none;\">\n",
              "        \n",
              "  <svg xmlns=\"http://www.w3.org/2000/svg\" height=\"24px\"viewBox=\"0 0 24 24\"\n",
              "       width=\"24px\">\n",
              "    <path d=\"M0 0h24v24H0V0z\" fill=\"none\"/>\n",
              "    <path d=\"M18.56 5.44l.94 2.06.94-2.06 2.06-.94-2.06-.94-.94-2.06-.94 2.06-2.06.94zm-11 1L8.5 8.5l.94-2.06 2.06-.94-2.06-.94L8.5 2.5l-.94 2.06-2.06.94zm10 10l.94 2.06.94-2.06 2.06-.94-2.06-.94-.94-2.06-.94 2.06-2.06.94z\"/><path d=\"M17.41 7.96l-1.37-1.37c-.4-.4-.92-.59-1.43-.59-.52 0-1.04.2-1.43.59L10.3 9.45l-7.72 7.72c-.78.78-.78 2.05 0 2.83L4 21.41c.39.39.9.59 1.41.59.51 0 1.02-.2 1.41-.59l7.78-7.78 2.81-2.81c.8-.78.8-2.07 0-2.86zM5.41 20L4 18.59l7.72-7.72 1.47 1.35L5.41 20z\"/>\n",
              "  </svg>\n",
              "      </button>\n",
              "      \n",
              "  <style>\n",
              "    .colab-df-container {\n",
              "      display:flex;\n",
              "      flex-wrap:wrap;\n",
              "      gap: 12px;\n",
              "    }\n",
              "\n",
              "    .colab-df-convert {\n",
              "      background-color: #E8F0FE;\n",
              "      border: none;\n",
              "      border-radius: 50%;\n",
              "      cursor: pointer;\n",
              "      display: none;\n",
              "      fill: #1967D2;\n",
              "      height: 32px;\n",
              "      padding: 0 0 0 0;\n",
              "      width: 32px;\n",
              "    }\n",
              "\n",
              "    .colab-df-convert:hover {\n",
              "      background-color: #E2EBFA;\n",
              "      box-shadow: 0px 1px 2px rgba(60, 64, 67, 0.3), 0px 1px 3px 1px rgba(60, 64, 67, 0.15);\n",
              "      fill: #174EA6;\n",
              "    }\n",
              "\n",
              "    [theme=dark] .colab-df-convert {\n",
              "      background-color: #3B4455;\n",
              "      fill: #D2E3FC;\n",
              "    }\n",
              "\n",
              "    [theme=dark] .colab-df-convert:hover {\n",
              "      background-color: #434B5C;\n",
              "      box-shadow: 0px 1px 3px 1px rgba(0, 0, 0, 0.15);\n",
              "      filter: drop-shadow(0px 1px 2px rgba(0, 0, 0, 0.3));\n",
              "      fill: #FFFFFF;\n",
              "    }\n",
              "  </style>\n",
              "\n",
              "      <script>\n",
              "        const buttonEl =\n",
              "          document.querySelector('#df-79a8dd83-349e-4b4c-a04f-3e0d0d9f8488 button.colab-df-convert');\n",
              "        buttonEl.style.display =\n",
              "          google.colab.kernel.accessAllowed ? 'block' : 'none';\n",
              "\n",
              "        async function convertToInteractive(key) {\n",
              "          const element = document.querySelector('#df-79a8dd83-349e-4b4c-a04f-3e0d0d9f8488');\n",
              "          const dataTable =\n",
              "            await google.colab.kernel.invokeFunction('convertToInteractive',\n",
              "                                                     [key], {});\n",
              "          if (!dataTable) return;\n",
              "\n",
              "          const docLinkHtml = 'Like what you see? Visit the ' +\n",
              "            '<a target=\"_blank\" href=https://colab.research.google.com/notebooks/data_table.ipynb>data table notebook</a>'\n",
              "            + ' to learn more about interactive tables.';\n",
              "          element.innerHTML = '';\n",
              "          dataTable['output_type'] = 'display_data';\n",
              "          await google.colab.output.renderOutput(dataTable, element);\n",
              "          const docLink = document.createElement('div');\n",
              "          docLink.innerHTML = docLinkHtml;\n",
              "          element.appendChild(docLink);\n",
              "        }\n",
              "      </script>\n",
              "    </div>\n",
              "  </div>\n",
              "  "
            ]
          },
          "metadata": {},
          "execution_count": 33
        }
      ]
    },
    {
      "cell_type": "markdown",
      "source": [
        "# **Categorical conversion**"
      ],
      "metadata": {
        "id": "gIr4rWQMDdxS"
      }
    },
    {
      "cell_type": "code",
      "source": [
        "# Dropping the first column from status dataset\n",
        "status = pd.get_dummies(stock['Date'], drop_first = True)\n",
        "\n",
        "# Adding the status to the original housing dataframe\n",
        "stock = pd.concat([stock, status], axis = 1)\n",
        "\n",
        "# Dropping 'furnishingstatus' as we have created the dummies for it\n",
        "stock.drop(['Date'], axis = 1, inplace = True)\n",
        "\n",
        "stock"
      ],
      "metadata": {
        "colab": {
          "base_uri": "https://localhost:8080/",
          "height": 424
        },
        "id": "otTEj7qLFYBg",
        "outputId": "a45cdf8a-8d8a-4953-ebd7-c02c4dd2dba6"
      },
      "execution_count": 34,
      "outputs": [
        {
          "output_type": "execute_result",
          "data": {
            "text/plain": [
              "            Open         High          Low        Close    Adj Close  \\\n",
              "0      15.859429    16.783918    11.763055    13.673923     9.001143   \n",
              "1      13.538537    18.950085    13.499856    16.389366    10.788639   \n",
              "2      16.517015    18.412411    14.892391    16.002550    10.534009   \n",
              "3      16.072178    20.307806    15.936792    18.926874    12.459007   \n",
              "4      20.655939    20.880293    17.449242    18.439487    12.138176   \n",
              "..           ...          ...          ...          ...          ...   \n",
              "320  2582.649902  2629.699951  2311.000000  2377.750000  2377.750000   \n",
              "321  2391.500000  2560.949951  2343.100098  2549.600098  2549.600098   \n",
              "322  2600.000000  2745.449951  2502.000000  2731.350098  2731.350098   \n",
              "323  2741.800049  2755.000000  2700.600098  2722.149902  2722.149902   \n",
              "324  2730.000000  2748.000000  2700.600098  2722.149902  2722.149902   \n",
              "\n",
              "         Volume  \n",
              "0    3587399513  \n",
              "1    6910292355  \n",
              "2    5434431895  \n",
              "3    4130762758  \n",
              "4    5496793040  \n",
              "..          ...  \n",
              "320   118852012  \n",
              "321    94498167  \n",
              "322   104414767  \n",
              "323     9726291  \n",
              "324     5346727  \n",
              "\n",
              "[325 rows x 6 columns]"
            ],
            "text/html": [
              "\n",
              "  <div id=\"df-c93d6ca1-20f5-4e44-ae83-5c46ea4803f5\">\n",
              "    <div class=\"colab-df-container\">\n",
              "      <div>\n",
              "<style scoped>\n",
              "    .dataframe tbody tr th:only-of-type {\n",
              "        vertical-align: middle;\n",
              "    }\n",
              "\n",
              "    .dataframe tbody tr th {\n",
              "        vertical-align: top;\n",
              "    }\n",
              "\n",
              "    .dataframe thead th {\n",
              "        text-align: right;\n",
              "    }\n",
              "</style>\n",
              "<table border=\"1\" class=\"dataframe\">\n",
              "  <thead>\n",
              "    <tr style=\"text-align: right;\">\n",
              "      <th></th>\n",
              "      <th>Open</th>\n",
              "      <th>High</th>\n",
              "      <th>Low</th>\n",
              "      <th>Close</th>\n",
              "      <th>Adj Close</th>\n",
              "      <th>Volume</th>\n",
              "    </tr>\n",
              "  </thead>\n",
              "  <tbody>\n",
              "    <tr>\n",
              "      <th>0</th>\n",
              "      <td>15.859429</td>\n",
              "      <td>16.783918</td>\n",
              "      <td>11.763055</td>\n",
              "      <td>13.673923</td>\n",
              "      <td>9.001143</td>\n",
              "      <td>3587399513</td>\n",
              "    </tr>\n",
              "    <tr>\n",
              "      <th>1</th>\n",
              "      <td>13.538537</td>\n",
              "      <td>18.950085</td>\n",
              "      <td>13.499856</td>\n",
              "      <td>16.389366</td>\n",
              "      <td>10.788639</td>\n",
              "      <td>6910292355</td>\n",
              "    </tr>\n",
              "    <tr>\n",
              "      <th>2</th>\n",
              "      <td>16.517015</td>\n",
              "      <td>18.412411</td>\n",
              "      <td>14.892391</td>\n",
              "      <td>16.002550</td>\n",
              "      <td>10.534009</td>\n",
              "      <td>5434431895</td>\n",
              "    </tr>\n",
              "    <tr>\n",
              "      <th>3</th>\n",
              "      <td>16.072178</td>\n",
              "      <td>20.307806</td>\n",
              "      <td>15.936792</td>\n",
              "      <td>18.926874</td>\n",
              "      <td>12.459007</td>\n",
              "      <td>4130762758</td>\n",
              "    </tr>\n",
              "    <tr>\n",
              "      <th>4</th>\n",
              "      <td>20.655939</td>\n",
              "      <td>20.880293</td>\n",
              "      <td>17.449242</td>\n",
              "      <td>18.439487</td>\n",
              "      <td>12.138176</td>\n",
              "      <td>5496793040</td>\n",
              "    </tr>\n",
              "    <tr>\n",
              "      <th>...</th>\n",
              "      <td>...</td>\n",
              "      <td>...</td>\n",
              "      <td>...</td>\n",
              "      <td>...</td>\n",
              "      <td>...</td>\n",
              "      <td>...</td>\n",
              "    </tr>\n",
              "    <tr>\n",
              "      <th>320</th>\n",
              "      <td>2582.649902</td>\n",
              "      <td>2629.699951</td>\n",
              "      <td>2311.000000</td>\n",
              "      <td>2377.750000</td>\n",
              "      <td>2377.750000</td>\n",
              "      <td>118852012</td>\n",
              "    </tr>\n",
              "    <tr>\n",
              "      <th>321</th>\n",
              "      <td>2391.500000</td>\n",
              "      <td>2560.949951</td>\n",
              "      <td>2343.100098</td>\n",
              "      <td>2549.600098</td>\n",
              "      <td>2549.600098</td>\n",
              "      <td>94498167</td>\n",
              "    </tr>\n",
              "    <tr>\n",
              "      <th>322</th>\n",
              "      <td>2600.000000</td>\n",
              "      <td>2745.449951</td>\n",
              "      <td>2502.000000</td>\n",
              "      <td>2731.350098</td>\n",
              "      <td>2731.350098</td>\n",
              "      <td>104414767</td>\n",
              "    </tr>\n",
              "    <tr>\n",
              "      <th>323</th>\n",
              "      <td>2741.800049</td>\n",
              "      <td>2755.000000</td>\n",
              "      <td>2700.600098</td>\n",
              "      <td>2722.149902</td>\n",
              "      <td>2722.149902</td>\n",
              "      <td>9726291</td>\n",
              "    </tr>\n",
              "    <tr>\n",
              "      <th>324</th>\n",
              "      <td>2730.000000</td>\n",
              "      <td>2748.000000</td>\n",
              "      <td>2700.600098</td>\n",
              "      <td>2722.149902</td>\n",
              "      <td>2722.149902</td>\n",
              "      <td>5346727</td>\n",
              "    </tr>\n",
              "  </tbody>\n",
              "</table>\n",
              "<p>325 rows × 6 columns</p>\n",
              "</div>\n",
              "      <button class=\"colab-df-convert\" onclick=\"convertToInteractive('df-c93d6ca1-20f5-4e44-ae83-5c46ea4803f5')\"\n",
              "              title=\"Convert this dataframe to an interactive table.\"\n",
              "              style=\"display:none;\">\n",
              "        \n",
              "  <svg xmlns=\"http://www.w3.org/2000/svg\" height=\"24px\"viewBox=\"0 0 24 24\"\n",
              "       width=\"24px\">\n",
              "    <path d=\"M0 0h24v24H0V0z\" fill=\"none\"/>\n",
              "    <path d=\"M18.56 5.44l.94 2.06.94-2.06 2.06-.94-2.06-.94-.94-2.06-.94 2.06-2.06.94zm-11 1L8.5 8.5l.94-2.06 2.06-.94-2.06-.94L8.5 2.5l-.94 2.06-2.06.94zm10 10l.94 2.06.94-2.06 2.06-.94-2.06-.94-.94-2.06-.94 2.06-2.06.94z\"/><path d=\"M17.41 7.96l-1.37-1.37c-.4-.4-.92-.59-1.43-.59-.52 0-1.04.2-1.43.59L10.3 9.45l-7.72 7.72c-.78.78-.78 2.05 0 2.83L4 21.41c.39.39.9.59 1.41.59.51 0 1.02-.2 1.41-.59l7.78-7.78 2.81-2.81c.8-.78.8-2.07 0-2.86zM5.41 20L4 18.59l7.72-7.72 1.47 1.35L5.41 20z\"/>\n",
              "  </svg>\n",
              "      </button>\n",
              "      \n",
              "  <style>\n",
              "    .colab-df-container {\n",
              "      display:flex;\n",
              "      flex-wrap:wrap;\n",
              "      gap: 12px;\n",
              "    }\n",
              "\n",
              "    .colab-df-convert {\n",
              "      background-color: #E8F0FE;\n",
              "      border: none;\n",
              "      border-radius: 50%;\n",
              "      cursor: pointer;\n",
              "      display: none;\n",
              "      fill: #1967D2;\n",
              "      height: 32px;\n",
              "      padding: 0 0 0 0;\n",
              "      width: 32px;\n",
              "    }\n",
              "\n",
              "    .colab-df-convert:hover {\n",
              "      background-color: #E2EBFA;\n",
              "      box-shadow: 0px 1px 2px rgba(60, 64, 67, 0.3), 0px 1px 3px 1px rgba(60, 64, 67, 0.15);\n",
              "      fill: #174EA6;\n",
              "    }\n",
              "\n",
              "    [theme=dark] .colab-df-convert {\n",
              "      background-color: #3B4455;\n",
              "      fill: #D2E3FC;\n",
              "    }\n",
              "\n",
              "    [theme=dark] .colab-df-convert:hover {\n",
              "      background-color: #434B5C;\n",
              "      box-shadow: 0px 1px 3px 1px rgba(0, 0, 0, 0.15);\n",
              "      filter: drop-shadow(0px 1px 2px rgba(0, 0, 0, 0.3));\n",
              "      fill: #FFFFFF;\n",
              "    }\n",
              "  </style>\n",
              "\n",
              "      <script>\n",
              "        const buttonEl =\n",
              "          document.querySelector('#df-c93d6ca1-20f5-4e44-ae83-5c46ea4803f5 button.colab-df-convert');\n",
              "        buttonEl.style.display =\n",
              "          google.colab.kernel.accessAllowed ? 'block' : 'none';\n",
              "\n",
              "        async function convertToInteractive(key) {\n",
              "          const element = document.querySelector('#df-c93d6ca1-20f5-4e44-ae83-5c46ea4803f5');\n",
              "          const dataTable =\n",
              "            await google.colab.kernel.invokeFunction('convertToInteractive',\n",
              "                                                     [key], {});\n",
              "          if (!dataTable) return;\n",
              "\n",
              "          const docLinkHtml = 'Like what you see? Visit the ' +\n",
              "            '<a target=\"_blank\" href=https://colab.research.google.com/notebooks/data_table.ipynb>data table notebook</a>'\n",
              "            + ' to learn more about interactive tables.';\n",
              "          element.innerHTML = '';\n",
              "          dataTable['output_type'] = 'display_data';\n",
              "          await google.colab.output.renderOutput(dataTable, element);\n",
              "          const docLink = document.createElement('div');\n",
              "          docLink.innerHTML = docLinkHtml;\n",
              "          element.appendChild(docLink);\n",
              "        }\n",
              "      </script>\n",
              "    </div>\n",
              "  </div>\n",
              "  "
            ]
          },
          "metadata": {},
          "execution_count": 34
        }
      ]
    },
    {
      "cell_type": "markdown",
      "source": [
        "# **checking null value**"
      ],
      "metadata": {
        "id": "lzOAkBiEywH6"
      }
    },
    {
      "cell_type": "code",
      "source": [
        "stock.isnull().sum()"
      ],
      "metadata": {
        "colab": {
          "base_uri": "https://localhost:8080/"
        },
        "id": "wVBB0tTpOrWO",
        "outputId": "7a2f7bbd-ca04-41dd-8168-62ff1a4485ff"
      },
      "execution_count": 35,
      "outputs": [
        {
          "output_type": "execute_result",
          "data": {
            "text/plain": [
              "Open         0\n",
              "High         0\n",
              "Low          0\n",
              "Close        0\n",
              "Adj Close    0\n",
              "Volume       0\n",
              "dtype: int64"
            ]
          },
          "metadata": {},
          "execution_count": 35
        }
      ]
    },
    {
      "cell_type": "markdown",
      "source": [
        "# **outerline direction**"
      ],
      "metadata": {
        "id": "DKHwdIrxG7Kb"
      }
    },
    {
      "cell_type": "code",
      "source": [
        "def detect_outliers_zscore(data):\n",
        "    outliers = []\n",
        "    thres = 3\n",
        "    mean = ny.mean(data)\n",
        "    std = ny.std(data)\n",
        "    #print(mean, std)\n",
        "    for i in data:\n",
        "        #print(i)\n",
        "        z_score = (i-mean)/std\n",
        "        if (ny.abs(z_score) > thres):\n",
        "            outliers.append(i)\n",
        "    return outliers# Driver code"
      ],
      "metadata": {
        "id": "n5FFoRThHCmX"
      },
      "execution_count": 36,
      "outputs": []
    },
    {
      "cell_type": "code",
      "source": [
        "sample_outliers_Open = detect_outliers_zscore(stock['Open'])\n",
        "sample_outliers_Volume = detect_outliers_zscore(stock['Volume'])\n",
        "sample_outliers_Low = detect_outliers_zscore(stock['Low'])\n",
        "print(\"Outliers in tata-volume column from Z-scores method: \", sample_outliers_Open)\n",
        "print(\"Outliers in reliance-volume from Z-scores method: \", sample_outliers_Volume)\n",
        "print(\"Outliers in amazon-volume column from Z-scores method: \", sample_outliers_Low)"
      ],
      "metadata": {
        "colab": {
          "base_uri": "https://localhost:8080/"
        },
        "id": "F2v-3ukLHRe_",
        "outputId": "14aabf6a-8149-43bd-f7dd-0004cbeaa063"
      },
      "execution_count": 37,
      "outputs": [
        {
          "output_type": "stream",
          "name": "stdout",
          "text": [
            "Outliers in tata-volume column from Z-scores method:  [2636.0, 2762.0, 2634.300049, 2574.899902, 2582.649902, 2600.0, 2741.800049, 2730.0]\n",
            "Outliers in reliance-volume from Z-scores method:  [3587399513, 6910292355, 5434431895, 4130762758, 5496793040, 6504446914, 4061157843, 3331175205]\n",
            "Outliers in amazon-volume column from Z-scores method:  [2495.0, 2521.800049, 2445.0, 2507.600098, 2502.0, 2700.600098, 2700.600098]\n"
          ]
        }
      ]
    },
    {
      "cell_type": "code",
      "source": [
        "from scipy.stats import zscore\n",
        "z1 = ny.abs(zscore(stock['Low']))\n",
        "z2 = ny.abs(zscore(stock['Close']))\n",
        "z3 = ny.abs(zscore(stock['Volume']))\n",
        "stock['Zscore_tata-volume'] = z1\n",
        "stock['Zscore_Reliance-Volume'] = z2\n",
        "stock['Zscore_Reliance-Volume.1'] = z3\n",
        "outliers_tata_volume=len(stock[stock['Zscore_tata-volume']>3])\n",
        "outliers_Reliance_Volume=len(stock[stock['Zscore_Reliance-Volume']>3])\n",
        "outliers_Reliance_Volume_1=len(stock[stock['Zscore_Reliance-Volume.1']>3])\n",
        "data_z = stock[stock['Zscore_tata-volume']<3]\n",
        "data_z = stock[stock['Zscore_Reliance-Volume']<3]\n",
        "data_z = stock[stock['Zscore_Reliance-Volume.1']<3]\n",
        "stock=data_z.drop(['Zscore_tata-volume', 'Zscore_Reliance-Volume', 'Zscore_Reliance-Volume.1'], axis=1)\n",
        "stock"
      ],
      "metadata": {
        "colab": {
          "base_uri": "https://localhost:8080/",
          "height": 424
        },
        "id": "nUtOVMYNNZ5g",
        "outputId": "3da5ad00-aa0c-46fc-f2e2-3a05105cf250"
      },
      "execution_count": 39,
      "outputs": [
        {
          "output_type": "execute_result",
          "data": {
            "text/plain": [
              "            Open         High          Low        Close    Adj Close  \\\n",
              "8      16.408707    16.625324    14.343113    14.780215    10.133524   \n",
              "10     15.739517    16.710423    13.441833    14.025925     9.616371   \n",
              "11     13.944693    16.323608    13.673923    15.987078    10.960965   \n",
              "16     23.959343    23.959343    21.731287    23.290154    15.968058   \n",
              "19     27.924200    29.823463    25.367352    25.553022    18.161884   \n",
              "..           ...          ...          ...          ...          ...   \n",
              "320  2582.649902  2629.699951  2311.000000  2377.750000  2377.750000   \n",
              "321  2391.500000  2560.949951  2343.100098  2549.600098  2549.600098   \n",
              "322  2600.000000  2745.449951  2502.000000  2731.350098  2731.350098   \n",
              "323  2741.800049  2755.000000  2700.600098  2722.149902  2722.149902   \n",
              "324  2730.000000  2748.000000  2700.600098  2722.149902  2722.149902   \n",
              "\n",
              "         Volume  \n",
              "8    1704430739  \n",
              "10   1750434601  \n",
              "11   1450104622  \n",
              "16   2133948328  \n",
              "19   2110116539  \n",
              "..          ...  \n",
              "320   118852012  \n",
              "321    94498167  \n",
              "322   104414767  \n",
              "323     9726291  \n",
              "324     5346727  \n",
              "\n",
              "[309 rows x 6 columns]"
            ],
            "text/html": [
              "\n",
              "  <div id=\"df-a86830dd-1d8f-40ab-9833-5d86e230e010\">\n",
              "    <div class=\"colab-df-container\">\n",
              "      <div>\n",
              "<style scoped>\n",
              "    .dataframe tbody tr th:only-of-type {\n",
              "        vertical-align: middle;\n",
              "    }\n",
              "\n",
              "    .dataframe tbody tr th {\n",
              "        vertical-align: top;\n",
              "    }\n",
              "\n",
              "    .dataframe thead th {\n",
              "        text-align: right;\n",
              "    }\n",
              "</style>\n",
              "<table border=\"1\" class=\"dataframe\">\n",
              "  <thead>\n",
              "    <tr style=\"text-align: right;\">\n",
              "      <th></th>\n",
              "      <th>Open</th>\n",
              "      <th>High</th>\n",
              "      <th>Low</th>\n",
              "      <th>Close</th>\n",
              "      <th>Adj Close</th>\n",
              "      <th>Volume</th>\n",
              "    </tr>\n",
              "  </thead>\n",
              "  <tbody>\n",
              "    <tr>\n",
              "      <th>8</th>\n",
              "      <td>16.408707</td>\n",
              "      <td>16.625324</td>\n",
              "      <td>14.343113</td>\n",
              "      <td>14.780215</td>\n",
              "      <td>10.133524</td>\n",
              "      <td>1704430739</td>\n",
              "    </tr>\n",
              "    <tr>\n",
              "      <th>10</th>\n",
              "      <td>15.739517</td>\n",
              "      <td>16.710423</td>\n",
              "      <td>13.441833</td>\n",
              "      <td>14.025925</td>\n",
              "      <td>9.616371</td>\n",
              "      <td>1750434601</td>\n",
              "    </tr>\n",
              "    <tr>\n",
              "      <th>11</th>\n",
              "      <td>13.944693</td>\n",
              "      <td>16.323608</td>\n",
              "      <td>13.673923</td>\n",
              "      <td>15.987078</td>\n",
              "      <td>10.960965</td>\n",
              "      <td>1450104622</td>\n",
              "    </tr>\n",
              "    <tr>\n",
              "      <th>16</th>\n",
              "      <td>23.959343</td>\n",
              "      <td>23.959343</td>\n",
              "      <td>21.731287</td>\n",
              "      <td>23.290154</td>\n",
              "      <td>15.968058</td>\n",
              "      <td>2133948328</td>\n",
              "    </tr>\n",
              "    <tr>\n",
              "      <th>19</th>\n",
              "      <td>27.924200</td>\n",
              "      <td>29.823463</td>\n",
              "      <td>25.367352</td>\n",
              "      <td>25.553022</td>\n",
              "      <td>18.161884</td>\n",
              "      <td>2110116539</td>\n",
              "    </tr>\n",
              "    <tr>\n",
              "      <th>...</th>\n",
              "      <td>...</td>\n",
              "      <td>...</td>\n",
              "      <td>...</td>\n",
              "      <td>...</td>\n",
              "      <td>...</td>\n",
              "      <td>...</td>\n",
              "    </tr>\n",
              "    <tr>\n",
              "      <th>320</th>\n",
              "      <td>2582.649902</td>\n",
              "      <td>2629.699951</td>\n",
              "      <td>2311.000000</td>\n",
              "      <td>2377.750000</td>\n",
              "      <td>2377.750000</td>\n",
              "      <td>118852012</td>\n",
              "    </tr>\n",
              "    <tr>\n",
              "      <th>321</th>\n",
              "      <td>2391.500000</td>\n",
              "      <td>2560.949951</td>\n",
              "      <td>2343.100098</td>\n",
              "      <td>2549.600098</td>\n",
              "      <td>2549.600098</td>\n",
              "      <td>94498167</td>\n",
              "    </tr>\n",
              "    <tr>\n",
              "      <th>322</th>\n",
              "      <td>2600.000000</td>\n",
              "      <td>2745.449951</td>\n",
              "      <td>2502.000000</td>\n",
              "      <td>2731.350098</td>\n",
              "      <td>2731.350098</td>\n",
              "      <td>104414767</td>\n",
              "    </tr>\n",
              "    <tr>\n",
              "      <th>323</th>\n",
              "      <td>2741.800049</td>\n",
              "      <td>2755.000000</td>\n",
              "      <td>2700.600098</td>\n",
              "      <td>2722.149902</td>\n",
              "      <td>2722.149902</td>\n",
              "      <td>9726291</td>\n",
              "    </tr>\n",
              "    <tr>\n",
              "      <th>324</th>\n",
              "      <td>2730.000000</td>\n",
              "      <td>2748.000000</td>\n",
              "      <td>2700.600098</td>\n",
              "      <td>2722.149902</td>\n",
              "      <td>2722.149902</td>\n",
              "      <td>5346727</td>\n",
              "    </tr>\n",
              "  </tbody>\n",
              "</table>\n",
              "<p>309 rows × 6 columns</p>\n",
              "</div>\n",
              "      <button class=\"colab-df-convert\" onclick=\"convertToInteractive('df-a86830dd-1d8f-40ab-9833-5d86e230e010')\"\n",
              "              title=\"Convert this dataframe to an interactive table.\"\n",
              "              style=\"display:none;\">\n",
              "        \n",
              "  <svg xmlns=\"http://www.w3.org/2000/svg\" height=\"24px\"viewBox=\"0 0 24 24\"\n",
              "       width=\"24px\">\n",
              "    <path d=\"M0 0h24v24H0V0z\" fill=\"none\"/>\n",
              "    <path d=\"M18.56 5.44l.94 2.06.94-2.06 2.06-.94-2.06-.94-.94-2.06-.94 2.06-2.06.94zm-11 1L8.5 8.5l.94-2.06 2.06-.94-2.06-.94L8.5 2.5l-.94 2.06-2.06.94zm10 10l.94 2.06.94-2.06 2.06-.94-2.06-.94-.94-2.06-.94 2.06-2.06.94z\"/><path d=\"M17.41 7.96l-1.37-1.37c-.4-.4-.92-.59-1.43-.59-.52 0-1.04.2-1.43.59L10.3 9.45l-7.72 7.72c-.78.78-.78 2.05 0 2.83L4 21.41c.39.39.9.59 1.41.59.51 0 1.02-.2 1.41-.59l7.78-7.78 2.81-2.81c.8-.78.8-2.07 0-2.86zM5.41 20L4 18.59l7.72-7.72 1.47 1.35L5.41 20z\"/>\n",
              "  </svg>\n",
              "      </button>\n",
              "      \n",
              "  <style>\n",
              "    .colab-df-container {\n",
              "      display:flex;\n",
              "      flex-wrap:wrap;\n",
              "      gap: 12px;\n",
              "    }\n",
              "\n",
              "    .colab-df-convert {\n",
              "      background-color: #E8F0FE;\n",
              "      border: none;\n",
              "      border-radius: 50%;\n",
              "      cursor: pointer;\n",
              "      display: none;\n",
              "      fill: #1967D2;\n",
              "      height: 32px;\n",
              "      padding: 0 0 0 0;\n",
              "      width: 32px;\n",
              "    }\n",
              "\n",
              "    .colab-df-convert:hover {\n",
              "      background-color: #E2EBFA;\n",
              "      box-shadow: 0px 1px 2px rgba(60, 64, 67, 0.3), 0px 1px 3px 1px rgba(60, 64, 67, 0.15);\n",
              "      fill: #174EA6;\n",
              "    }\n",
              "\n",
              "    [theme=dark] .colab-df-convert {\n",
              "      background-color: #3B4455;\n",
              "      fill: #D2E3FC;\n",
              "    }\n",
              "\n",
              "    [theme=dark] .colab-df-convert:hover {\n",
              "      background-color: #434B5C;\n",
              "      box-shadow: 0px 1px 3px 1px rgba(0, 0, 0, 0.15);\n",
              "      filter: drop-shadow(0px 1px 2px rgba(0, 0, 0, 0.3));\n",
              "      fill: #FFFFFF;\n",
              "    }\n",
              "  </style>\n",
              "\n",
              "      <script>\n",
              "        const buttonEl =\n",
              "          document.querySelector('#df-a86830dd-1d8f-40ab-9833-5d86e230e010 button.colab-df-convert');\n",
              "        buttonEl.style.display =\n",
              "          google.colab.kernel.accessAllowed ? 'block' : 'none';\n",
              "\n",
              "        async function convertToInteractive(key) {\n",
              "          const element = document.querySelector('#df-a86830dd-1d8f-40ab-9833-5d86e230e010');\n",
              "          const dataTable =\n",
              "            await google.colab.kernel.invokeFunction('convertToInteractive',\n",
              "                                                     [key], {});\n",
              "          if (!dataTable) return;\n",
              "\n",
              "          const docLinkHtml = 'Like what you see? Visit the ' +\n",
              "            '<a target=\"_blank\" href=https://colab.research.google.com/notebooks/data_table.ipynb>data table notebook</a>'\n",
              "            + ' to learn more about interactive tables.';\n",
              "          element.innerHTML = '';\n",
              "          dataTable['output_type'] = 'display_data';\n",
              "          await google.colab.output.renderOutput(dataTable, element);\n",
              "          const docLink = document.createElement('div');\n",
              "          docLink.innerHTML = docLinkHtml;\n",
              "          element.appendChild(docLink);\n",
              "        }\n",
              "      </script>\n",
              "    </div>\n",
              "  </div>\n",
              "  "
            ]
          },
          "metadata": {},
          "execution_count": 39
        }
      ]
    },
    {
      "cell_type": "markdown",
      "source": [
        "# **Missing value treatement**"
      ],
      "metadata": {
        "id": "RDiAAjIIOnr1"
      }
    },
    {
      "cell_type": "code",
      "source": [
        "m1=stock['Open'].mean()\n",
        "m2=stock['Volume'].mean()\n",
        "m3=stock['Low'].mean()\n",
        "stock['Open'].fillna(value=m1, inplace=True)\n",
        "stock['Volume'].fillna(value=m2, inplace=True)\n",
        "stock['Low'].fillna(value=m3, inplace=True)\n",
        "stock"
      ],
      "metadata": {
        "colab": {
          "base_uri": "https://localhost:8080/",
          "height": 424
        },
        "id": "WI0zBpzmO0h9",
        "outputId": "115ffca5-c369-4153-f3ee-4965c8c64995"
      },
      "execution_count": 40,
      "outputs": [
        {
          "output_type": "execute_result",
          "data": {
            "text/plain": [
              "            Open         High          Low        Close    Adj Close  \\\n",
              "8      16.408707    16.625324    14.343113    14.780215    10.133524   \n",
              "10     15.739517    16.710423    13.441833    14.025925     9.616371   \n",
              "11     13.944693    16.323608    13.673923    15.987078    10.960965   \n",
              "16     23.959343    23.959343    21.731287    23.290154    15.968058   \n",
              "19     27.924200    29.823463    25.367352    25.553022    18.161884   \n",
              "..           ...          ...          ...          ...          ...   \n",
              "320  2582.649902  2629.699951  2311.000000  2377.750000  2377.750000   \n",
              "321  2391.500000  2560.949951  2343.100098  2549.600098  2549.600098   \n",
              "322  2600.000000  2745.449951  2502.000000  2731.350098  2731.350098   \n",
              "323  2741.800049  2755.000000  2700.600098  2722.149902  2722.149902   \n",
              "324  2730.000000  2748.000000  2700.600098  2722.149902  2722.149902   \n",
              "\n",
              "         Volume  \n",
              "8    1704430739  \n",
              "10   1750434601  \n",
              "11   1450104622  \n",
              "16   2133948328  \n",
              "19   2110116539  \n",
              "..          ...  \n",
              "320   118852012  \n",
              "321    94498167  \n",
              "322   104414767  \n",
              "323     9726291  \n",
              "324     5346727  \n",
              "\n",
              "[309 rows x 6 columns]"
            ],
            "text/html": [
              "\n",
              "  <div id=\"df-681a2333-1593-4ab9-a0a1-3332c77e391e\">\n",
              "    <div class=\"colab-df-container\">\n",
              "      <div>\n",
              "<style scoped>\n",
              "    .dataframe tbody tr th:only-of-type {\n",
              "        vertical-align: middle;\n",
              "    }\n",
              "\n",
              "    .dataframe tbody tr th {\n",
              "        vertical-align: top;\n",
              "    }\n",
              "\n",
              "    .dataframe thead th {\n",
              "        text-align: right;\n",
              "    }\n",
              "</style>\n",
              "<table border=\"1\" class=\"dataframe\">\n",
              "  <thead>\n",
              "    <tr style=\"text-align: right;\">\n",
              "      <th></th>\n",
              "      <th>Open</th>\n",
              "      <th>High</th>\n",
              "      <th>Low</th>\n",
              "      <th>Close</th>\n",
              "      <th>Adj Close</th>\n",
              "      <th>Volume</th>\n",
              "    </tr>\n",
              "  </thead>\n",
              "  <tbody>\n",
              "    <tr>\n",
              "      <th>8</th>\n",
              "      <td>16.408707</td>\n",
              "      <td>16.625324</td>\n",
              "      <td>14.343113</td>\n",
              "      <td>14.780215</td>\n",
              "      <td>10.133524</td>\n",
              "      <td>1704430739</td>\n",
              "    </tr>\n",
              "    <tr>\n",
              "      <th>10</th>\n",
              "      <td>15.739517</td>\n",
              "      <td>16.710423</td>\n",
              "      <td>13.441833</td>\n",
              "      <td>14.025925</td>\n",
              "      <td>9.616371</td>\n",
              "      <td>1750434601</td>\n",
              "    </tr>\n",
              "    <tr>\n",
              "      <th>11</th>\n",
              "      <td>13.944693</td>\n",
              "      <td>16.323608</td>\n",
              "      <td>13.673923</td>\n",
              "      <td>15.987078</td>\n",
              "      <td>10.960965</td>\n",
              "      <td>1450104622</td>\n",
              "    </tr>\n",
              "    <tr>\n",
              "      <th>16</th>\n",
              "      <td>23.959343</td>\n",
              "      <td>23.959343</td>\n",
              "      <td>21.731287</td>\n",
              "      <td>23.290154</td>\n",
              "      <td>15.968058</td>\n",
              "      <td>2133948328</td>\n",
              "    </tr>\n",
              "    <tr>\n",
              "      <th>19</th>\n",
              "      <td>27.924200</td>\n",
              "      <td>29.823463</td>\n",
              "      <td>25.367352</td>\n",
              "      <td>25.553022</td>\n",
              "      <td>18.161884</td>\n",
              "      <td>2110116539</td>\n",
              "    </tr>\n",
              "    <tr>\n",
              "      <th>...</th>\n",
              "      <td>...</td>\n",
              "      <td>...</td>\n",
              "      <td>...</td>\n",
              "      <td>...</td>\n",
              "      <td>...</td>\n",
              "      <td>...</td>\n",
              "    </tr>\n",
              "    <tr>\n",
              "      <th>320</th>\n",
              "      <td>2582.649902</td>\n",
              "      <td>2629.699951</td>\n",
              "      <td>2311.000000</td>\n",
              "      <td>2377.750000</td>\n",
              "      <td>2377.750000</td>\n",
              "      <td>118852012</td>\n",
              "    </tr>\n",
              "    <tr>\n",
              "      <th>321</th>\n",
              "      <td>2391.500000</td>\n",
              "      <td>2560.949951</td>\n",
              "      <td>2343.100098</td>\n",
              "      <td>2549.600098</td>\n",
              "      <td>2549.600098</td>\n",
              "      <td>94498167</td>\n",
              "    </tr>\n",
              "    <tr>\n",
              "      <th>322</th>\n",
              "      <td>2600.000000</td>\n",
              "      <td>2745.449951</td>\n",
              "      <td>2502.000000</td>\n",
              "      <td>2731.350098</td>\n",
              "      <td>2731.350098</td>\n",
              "      <td>104414767</td>\n",
              "    </tr>\n",
              "    <tr>\n",
              "      <th>323</th>\n",
              "      <td>2741.800049</td>\n",
              "      <td>2755.000000</td>\n",
              "      <td>2700.600098</td>\n",
              "      <td>2722.149902</td>\n",
              "      <td>2722.149902</td>\n",
              "      <td>9726291</td>\n",
              "    </tr>\n",
              "    <tr>\n",
              "      <th>324</th>\n",
              "      <td>2730.000000</td>\n",
              "      <td>2748.000000</td>\n",
              "      <td>2700.600098</td>\n",
              "      <td>2722.149902</td>\n",
              "      <td>2722.149902</td>\n",
              "      <td>5346727</td>\n",
              "    </tr>\n",
              "  </tbody>\n",
              "</table>\n",
              "<p>309 rows × 6 columns</p>\n",
              "</div>\n",
              "      <button class=\"colab-df-convert\" onclick=\"convertToInteractive('df-681a2333-1593-4ab9-a0a1-3332c77e391e')\"\n",
              "              title=\"Convert this dataframe to an interactive table.\"\n",
              "              style=\"display:none;\">\n",
              "        \n",
              "  <svg xmlns=\"http://www.w3.org/2000/svg\" height=\"24px\"viewBox=\"0 0 24 24\"\n",
              "       width=\"24px\">\n",
              "    <path d=\"M0 0h24v24H0V0z\" fill=\"none\"/>\n",
              "    <path d=\"M18.56 5.44l.94 2.06.94-2.06 2.06-.94-2.06-.94-.94-2.06-.94 2.06-2.06.94zm-11 1L8.5 8.5l.94-2.06 2.06-.94-2.06-.94L8.5 2.5l-.94 2.06-2.06.94zm10 10l.94 2.06.94-2.06 2.06-.94-2.06-.94-.94-2.06-.94 2.06-2.06.94z\"/><path d=\"M17.41 7.96l-1.37-1.37c-.4-.4-.92-.59-1.43-.59-.52 0-1.04.2-1.43.59L10.3 9.45l-7.72 7.72c-.78.78-.78 2.05 0 2.83L4 21.41c.39.39.9.59 1.41.59.51 0 1.02-.2 1.41-.59l7.78-7.78 2.81-2.81c.8-.78.8-2.07 0-2.86zM5.41 20L4 18.59l7.72-7.72 1.47 1.35L5.41 20z\"/>\n",
              "  </svg>\n",
              "      </button>\n",
              "      \n",
              "  <style>\n",
              "    .colab-df-container {\n",
              "      display:flex;\n",
              "      flex-wrap:wrap;\n",
              "      gap: 12px;\n",
              "    }\n",
              "\n",
              "    .colab-df-convert {\n",
              "      background-color: #E8F0FE;\n",
              "      border: none;\n",
              "      border-radius: 50%;\n",
              "      cursor: pointer;\n",
              "      display: none;\n",
              "      fill: #1967D2;\n",
              "      height: 32px;\n",
              "      padding: 0 0 0 0;\n",
              "      width: 32px;\n",
              "    }\n",
              "\n",
              "    .colab-df-convert:hover {\n",
              "      background-color: #E2EBFA;\n",
              "      box-shadow: 0px 1px 2px rgba(60, 64, 67, 0.3), 0px 1px 3px 1px rgba(60, 64, 67, 0.15);\n",
              "      fill: #174EA6;\n",
              "    }\n",
              "\n",
              "    [theme=dark] .colab-df-convert {\n",
              "      background-color: #3B4455;\n",
              "      fill: #D2E3FC;\n",
              "    }\n",
              "\n",
              "    [theme=dark] .colab-df-convert:hover {\n",
              "      background-color: #434B5C;\n",
              "      box-shadow: 0px 1px 3px 1px rgba(0, 0, 0, 0.15);\n",
              "      filter: drop-shadow(0px 1px 2px rgba(0, 0, 0, 0.3));\n",
              "      fill: #FFFFFF;\n",
              "    }\n",
              "  </style>\n",
              "\n",
              "      <script>\n",
              "        const buttonEl =\n",
              "          document.querySelector('#df-681a2333-1593-4ab9-a0a1-3332c77e391e button.colab-df-convert');\n",
              "        buttonEl.style.display =\n",
              "          google.colab.kernel.accessAllowed ? 'block' : 'none';\n",
              "\n",
              "        async function convertToInteractive(key) {\n",
              "          const element = document.querySelector('#df-681a2333-1593-4ab9-a0a1-3332c77e391e');\n",
              "          const dataTable =\n",
              "            await google.colab.kernel.invokeFunction('convertToInteractive',\n",
              "                                                     [key], {});\n",
              "          if (!dataTable) return;\n",
              "\n",
              "          const docLinkHtml = 'Like what you see? Visit the ' +\n",
              "            '<a target=\"_blank\" href=https://colab.research.google.com/notebooks/data_table.ipynb>data table notebook</a>'\n",
              "            + ' to learn more about interactive tables.';\n",
              "          element.innerHTML = '';\n",
              "          dataTable['output_type'] = 'display_data';\n",
              "          await google.colab.output.renderOutput(dataTable, element);\n",
              "          const docLink = document.createElement('div');\n",
              "          docLink.innerHTML = docLinkHtml;\n",
              "          element.appendChild(docLink);\n",
              "        }\n",
              "      </script>\n",
              "    </div>\n",
              "  </div>\n",
              "  "
            ]
          },
          "metadata": {},
          "execution_count": 40
        }
      ]
    },
    {
      "cell_type": "markdown",
      "source": [
        "# **Data normalization**"
      ],
      "metadata": {
        "id": "WrF_aPCvPbAL"
      }
    },
    {
      "cell_type": "code",
      "source": [
        "from sklearn.preprocessing import MinMaxScaler\n",
        "scaler = MinMaxScaler()\n",
        "stock_norm = scaler.fit_transform(stock)\n",
        "\n",
        "stock_norm\n"
      ],
      "metadata": {
        "colab": {
          "base_uri": "https://localhost:8080/"
        },
        "id": "Lu1uvldUPfXw",
        "outputId": "755d4b06-8b91-4941-bc46-b00cbd42a0f1"
      },
      "execution_count": 41,
      "outputs": [
        {
          "output_type": "execute_result",
          "data": {
            "text/plain": [
              "array([[8.96639159e-04, 1.06244527e-04, 3.35402649e-04, 2.71696369e-04,\n",
              "        1.86545759e-04, 7.98216074e-01],\n",
              "       [6.53125137e-04, 1.36210796e-04, 0.00000000e+00, 0.00000000e+00,\n",
              "        0.00000000e+00, 8.19828320e-01],\n",
              "       [0.00000000e+00, 0.00000000e+00, 8.63700523e-05, 7.06410199e-04,\n",
              "        4.85017604e-04, 6.78735699e-01],\n",
              "       ...,\n",
              "       [9.41049221e-01, 9.61018760e-01, 9.26092891e-01, 9.78784169e-01,\n",
              "        9.81774997e-01, 4.65413725e-02],\n",
              "       [9.92649365e-01, 9.64381659e-01, 1.00000000e+00, 9.75470244e-01,\n",
              "        9.78456332e-01, 2.05748412e-03],\n",
              "       [9.88355402e-01, 9.61916719e-01, 1.00000000e+00, 9.75470244e-01,\n",
              "        9.78456332e-01, 0.00000000e+00]])"
            ]
          },
          "metadata": {},
          "execution_count": 41
        }
      ]
    },
    {
      "cell_type": "code",
      "source": [
        "x1=stock.drop('High',axis=1)\n",
        "\n",
        "y1=stock['High']\n",
        "\n",
        "print(type(x1))\n",
        "print(type(y1))\n",
        "print(x1.shape)\n",
        "print(y1.shape)"
      ],
      "metadata": {
        "colab": {
          "base_uri": "https://localhost:8080/"
        },
        "id": "kRrvBHUvVQeF",
        "outputId": "0cbd77d9-eccd-4fbb-a2c0-8540e66ce99a"
      },
      "execution_count": 42,
      "outputs": [
        {
          "output_type": "stream",
          "name": "stdout",
          "text": [
            "<class 'pandas.core.frame.DataFrame'>\n",
            "<class 'pandas.core.series.Series'>\n",
            "(309, 5)\n",
            "(309,)\n"
          ]
        }
      ]
    },
    {
      "cell_type": "markdown",
      "source": [
        "# **Data Split**"
      ],
      "metadata": {
        "id": "9SVPR76YPtwU"
      }
    },
    {
      "cell_type": "code",
      "source": [
        "from sklearn.model_selection import train_test_split\n"
      ],
      "metadata": {
        "id": "ru3rUdEVPwQj"
      },
      "execution_count": 43,
      "outputs": []
    },
    {
      "cell_type": "code",
      "source": [
        "x1_train,x1_test,y1_train,y1_test=train_test_split(x1,y1,test_size=0.2)\n",
        "print(x1_train.shape)\n",
        "print(x1_test.shape)\n",
        "print(y1_train.shape)\n",
        "print(y1_test.shape)"
      ],
      "metadata": {
        "colab": {
          "base_uri": "https://localhost:8080/"
        },
        "id": "IlDl3DLIU6Yw",
        "outputId": "309ee11e-37eb-4615-a3d3-010183bbbb8c"
      },
      "execution_count": 44,
      "outputs": [
        {
          "output_type": "stream",
          "name": "stdout",
          "text": [
            "(247, 5)\n",
            "(62, 5)\n",
            "(247,)\n",
            "(62,)\n"
          ]
        }
      ]
    },
    {
      "cell_type": "markdown",
      "source": [
        "# **creating confussion matrix of class report**"
      ],
      "metadata": {
        "id": "f75_jk2BTfzU"
      }
    },
    {
      "cell_type": "code",
      "source": [
        "from sklearn.metrics import confusion_matrix,classification_report,accuracy_score"
      ],
      "metadata": {
        "id": "9yLhBnuWThaJ"
      },
      "execution_count": 45,
      "outputs": []
    },
    {
      "cell_type": "code",
      "source": [
        "def eval_model(y1_test,y1pred):\n",
        "  cm=confusion_matrix(y1_test,y1pred)\n",
        "  print(cm)\n",
        "  print('accuracy score',accuracy_score(y1_test,y1pred))\n",
        "  print(classification_report(y1_test,y1pred))\n",
        "def mscore(model):\n",
        "  print('training score',model.score(x1_train,y1_train))\n",
        "  print('testing score',model.score(x1_test,y1_test))"
      ],
      "metadata": {
        "id": "datTXky2Tl8t"
      },
      "execution_count": 46,
      "outputs": []
    },
    {
      "cell_type": "markdown",
      "source": [
        "# **modeling**"
      ],
      "metadata": {
        "id": "1kbnjdAzSCqz"
      }
    },
    {
      "cell_type": "code",
      "source": [
        "from sklearn.linear_model import LinearRegression"
      ],
      "metadata": {
        "id": "Qb62PUGSSHbi"
      },
      "execution_count": 62,
      "outputs": []
    },
    {
      "cell_type": "code",
      "source": [
        "m1=LinearRegression()\n",
        "m1.fit(x1_train,y1_train)"
      ],
      "metadata": {
        "colab": {
          "base_uri": "https://localhost:8080/"
        },
        "id": "dIyO5dNAN_S0",
        "outputId": "3b0477da-233b-4ac9-edc9-daa4a562a0c0"
      },
      "execution_count": 63,
      "outputs": [
        {
          "output_type": "execute_result",
          "data": {
            "text/plain": [
              "LinearRegression()"
            ]
          },
          "metadata": {},
          "execution_count": 63
        }
      ]
    },
    {
      "cell_type": "markdown",
      "source": [
        "# **y=mx+c**"
      ],
      "metadata": {
        "id": "tGWbhrWMZHjp"
      }
    },
    {
      "cell_type": "code",
      "source": [
        "m=m1.coef_\n",
        "c=m1.intercept_"
      ],
      "metadata": {
        "id": "zyJKk5rFZF9C"
      },
      "execution_count": 64,
      "outputs": []
    },
    {
      "cell_type": "code",
      "source": [
        "mscore(m1)"
      ],
      "metadata": {
        "colab": {
          "base_uri": "https://localhost:8080/"
        },
        "id": "m-M7w6d5SQUO",
        "outputId": "22365bf9-10b8-4cd8-842a-39baed842184"
      },
      "execution_count": 67,
      "outputs": [
        {
          "output_type": "stream",
          "name": "stdout",
          "text": [
            "training score 0.9983572889347341\n",
            "testing score 0.9989823455300862\n"
          ]
        }
      ]
    },
    {
      "cell_type": "markdown",
      "source": [
        "# **Prediction on Training and Testing Data**"
      ],
      "metadata": {
        "id": "F-mojIRiVb8u"
      }
    },
    {
      "cell_type": "code",
      "source": [
        "y_pred_test =  m1.predict(x1_test)\n",
        "y_pred_train =  m1.predict(x1_train)"
      ],
      "metadata": {
        "id": "Y2A5JAdQQgif"
      },
      "execution_count": 70,
      "outputs": []
    },
    {
      "cell_type": "markdown",
      "source": [
        "# **Error Metrics Computation**"
      ],
      "metadata": {
        "id": "whti88ZMVuhT"
      }
    },
    {
      "cell_type": "code",
      "source": [
        "import math\n",
        "from sklearn.metrics import mean_squared_error \n",
        "from sklearn.metrics import mean_absolute_error\n",
        "\n",
        "\n",
        "#Training Accuracies\n",
        "rmse = math.sqrt(mean_squared_error(y1_train, y_pred_train)) \n",
        "print('Root mean square error', rmse) \n",
        "mse = (mean_squared_error(y1_train, y_pred_train)) \n",
        "print('Mean square error', mse) \n",
        "mae=mean_absolute_error(y1_train, y_pred_train)\n",
        "print('Mean absolute error', mae)"
      ],
      "metadata": {
        "colab": {
          "base_uri": "https://localhost:8080/"
        },
        "id": "PhuQ7gMNRB_v",
        "outputId": "8f78cab2-c28d-41ac-ac93-86beeb619d77"
      },
      "execution_count": 72,
      "outputs": [
        {
          "output_type": "stream",
          "name": "stdout",
          "text": [
            "Root mean square error 29.18599538135329\n",
            "Mean square error 851.8223264003756\n",
            "Mean absolute error 17.47789312455306\n"
          ]
        }
      ]
    },
    {
      "cell_type": "code",
      "source": [
        "#Training Accuracies\n",
        "rmse = math.sqrt(mean_squared_error(y1_test, y_pred_test)) \n",
        "print('Root mean square error', rmse) \n",
        "mse = (mean_squared_error(y1_test, y_pred_test)) \n",
        "print('Mean square error', mse) \n",
        "mae=mean_absolute_error(y1_test, y_pred_test)\n",
        "print('Mean absolute error', mae)"
      ],
      "metadata": {
        "colab": {
          "base_uri": "https://localhost:8080/"
        },
        "id": "8T6oQPjDRTDk",
        "outputId": "ab55e889-b796-4097-fb26-f19d624ff8bb"
      },
      "execution_count": 73,
      "outputs": [
        {
          "output_type": "stream",
          "name": "stdout",
          "text": [
            "Root mean square error 22.645851191003832\n",
            "Mean square error 512.8345761650896\n",
            "Mean absolute error 13.824558601833411\n"
          ]
        }
      ]
    },
    {
      "cell_type": "markdown",
      "source": [
        "# **model saving**"
      ],
      "metadata": {
        "id": "wGGy_sXdV0mE"
      }
    },
    {
      "cell_type": "code",
      "source": [
        "import pickle\n",
        "# Save the model\n",
        "filename = 'model.pkl'\n",
        "pickle.dump(m1, open(filename, 'wb'))"
      ],
      "metadata": {
        "id": "8iAIPq70N7S1"
      },
      "execution_count": 74,
      "outputs": []
    },
    {
      "cell_type": "markdown",
      "source": [
        "# **Deployment**"
      ],
      "metadata": {
        "id": "7cN6nYxOV5hb"
      }
    },
    {
      "cell_type": "code",
      "source": [
        "list_of_columns = stock.columns\n",
        "input_data=pd.DataFrame(columns=list_of_columns)\n",
        "input_data.drop(['High'], axis='columns', inplace=True)\n",
        "\n",
        "\n",
        "\n",
        "input_data.at[0, 'Low'] = input('enter Low value')\n",
        "input_data.at[0, 'Open'] = input('enter Open value')\n",
        "input_data.at[0, 'Close'] = input('enter Close value')\n",
        "input_data.at[0, 'Aclose'] = input('enter Adj Close value')\n",
        "input_data.at[0, 'Volume'] = input('enter Volume')"
      ],
      "metadata": {
        "colab": {
          "base_uri": "https://localhost:8080/"
        },
        "id": "upfe1mteRm4T",
        "outputId": "c01badb1-84dd-43e1-9154-fcf88f8447bc"
      },
      "execution_count": 101,
      "outputs": [
        {
          "name": "stdout",
          "output_type": "stream",
          "text": [
            "enter Low value11.763\n",
            "enter Open value15.85\n",
            "enter Close value13.67\n",
            "enter Adj Close value9.01\n",
            "enter Volume3587399513\n"
          ]
        }
      ]
    },
    {
      "cell_type": "markdown",
      "source": [
        "# **Testing the model**"
      ],
      "metadata": {
        "id": "IwLxVC2WYBgD"
      }
    },
    {
      "cell_type": "code",
      "source": [
        "def gen_model(model,x1_test,x1_train,y1_test,y1_train):\n",
        "  model.fit(x1_train,y1_train)\n",
        "  print('training score',model.score(x1_train,y1_train))\n",
        "  print('testing score',model.score(x1_test,y1_test))\n",
        "  ypred=model.predict(x1_test,y1_test)\n",
        "  cm=confusion_matrix(y1_test,y1_pred)\n",
        "  print(cm)\n",
        "  print(classification_report(y1_test,y1_pred))"
      ],
      "metadata": {
        "id": "LFhVvgOSSmpc"
      },
      "execution_count": 102,
      "outputs": []
    },
    {
      "cell_type": "code",
      "source": [
        "print(ypred_m1.shape)"
      ],
      "metadata": {
        "colab": {
          "base_uri": "https://localhost:8080/"
        },
        "id": "v2in7rFLS4km",
        "outputId": "08137cdc-d0fa-4fc2-d28c-eb379114dcd9"
      },
      "execution_count": 103,
      "outputs": [
        {
          "output_type": "stream",
          "name": "stdout",
          "text": [
            "(62,)\n"
          ]
        }
      ]
    },
    {
      "cell_type": "code",
      "source": [
        "x1_test.columns"
      ],
      "metadata": {
        "colab": {
          "base_uri": "https://localhost:8080/"
        },
        "id": "MzuUYSXITVNf",
        "outputId": "9f52993f-6835-4ea8-c890-0bc7f952a826"
      },
      "execution_count": 104,
      "outputs": [
        {
          "output_type": "execute_result",
          "data": {
            "text/plain": [
              "Index(['Open', 'Low', 'Close', 'Adj Close', 'Volume'], dtype='object')"
            ]
          },
          "metadata": {},
          "execution_count": 104
        }
      ]
    },
    {
      "cell_type": "markdown",
      "source": [],
      "metadata": {
        "id": "fBnwhP2vYAqa"
      }
    },
    {
      "cell_type": "code",
      "source": [
        "submission_test=pd.DataFrame({'Test_Open':x1_test['Open'],'Test_Close':x1_test['Close'],'Test_Volume':x1_test['Volume'],'Test_Low':x1_test['Low'],'pred_High':ypred_m1})\n",
        "submission_test.head(10)"
      ],
      "metadata": {
        "colab": {
          "base_uri": "https://localhost:8080/",
          "height": 363
        },
        "id": "2G_O7CFOTLgd",
        "outputId": "1d027ece-5313-4f2b-8838-94f085772705"
      },
      "execution_count": 105,
      "outputs": [
        {
          "output_type": "execute_result",
          "data": {
            "text/plain": [
              "       Test_Open   Test_Close  Test_Volume     Test_Low    pred_High\n",
              "70     39.764618    44.862846    329438313    38.967777    40.882027\n",
              "40     21.112383    25.901155   1729208052    20.771984    39.255826\n",
              "112    81.927490    82.778488    492446912    79.776802    85.999438\n",
              "298  2027.000000  1929.800049    432225361  1835.099976  2087.408997\n",
              "84     46.541622    42.557426    577887413    40.739395    44.895070\n",
              "310  2536.250000  2405.399902    148250427  2309.000000  2598.337149\n",
              "189   391.885315   434.654907    147701707   377.298584   449.991894\n",
              "224   497.459595   468.409943    140397557   454.343292   508.607435\n",
              "95     75.831284    88.634872   1011928610    67.305870    96.788457\n",
              "131   308.352142   314.555817    264735567   291.326019   338.649954"
            ],
            "text/html": [
              "\n",
              "  <div id=\"df-90bc7473-24c3-4959-9831-6b4272c1340e\">\n",
              "    <div class=\"colab-df-container\">\n",
              "      <div>\n",
              "<style scoped>\n",
              "    .dataframe tbody tr th:only-of-type {\n",
              "        vertical-align: middle;\n",
              "    }\n",
              "\n",
              "    .dataframe tbody tr th {\n",
              "        vertical-align: top;\n",
              "    }\n",
              "\n",
              "    .dataframe thead th {\n",
              "        text-align: right;\n",
              "    }\n",
              "</style>\n",
              "<table border=\"1\" class=\"dataframe\">\n",
              "  <thead>\n",
              "    <tr style=\"text-align: right;\">\n",
              "      <th></th>\n",
              "      <th>Test_Open</th>\n",
              "      <th>Test_Close</th>\n",
              "      <th>Test_Volume</th>\n",
              "      <th>Test_Low</th>\n",
              "      <th>pred_High</th>\n",
              "    </tr>\n",
              "  </thead>\n",
              "  <tbody>\n",
              "    <tr>\n",
              "      <th>70</th>\n",
              "      <td>39.764618</td>\n",
              "      <td>44.862846</td>\n",
              "      <td>329438313</td>\n",
              "      <td>38.967777</td>\n",
              "      <td>40.882027</td>\n",
              "    </tr>\n",
              "    <tr>\n",
              "      <th>40</th>\n",
              "      <td>21.112383</td>\n",
              "      <td>25.901155</td>\n",
              "      <td>1729208052</td>\n",
              "      <td>20.771984</td>\n",
              "      <td>39.255826</td>\n",
              "    </tr>\n",
              "    <tr>\n",
              "      <th>112</th>\n",
              "      <td>81.927490</td>\n",
              "      <td>82.778488</td>\n",
              "      <td>492446912</td>\n",
              "      <td>79.776802</td>\n",
              "      <td>85.999438</td>\n",
              "    </tr>\n",
              "    <tr>\n",
              "      <th>298</th>\n",
              "      <td>2027.000000</td>\n",
              "      <td>1929.800049</td>\n",
              "      <td>432225361</td>\n",
              "      <td>1835.099976</td>\n",
              "      <td>2087.408997</td>\n",
              "    </tr>\n",
              "    <tr>\n",
              "      <th>84</th>\n",
              "      <td>46.541622</td>\n",
              "      <td>42.557426</td>\n",
              "      <td>577887413</td>\n",
              "      <td>40.739395</td>\n",
              "      <td>44.895070</td>\n",
              "    </tr>\n",
              "    <tr>\n",
              "      <th>310</th>\n",
              "      <td>2536.250000</td>\n",
              "      <td>2405.399902</td>\n",
              "      <td>148250427</td>\n",
              "      <td>2309.000000</td>\n",
              "      <td>2598.337149</td>\n",
              "    </tr>\n",
              "    <tr>\n",
              "      <th>189</th>\n",
              "      <td>391.885315</td>\n",
              "      <td>434.654907</td>\n",
              "      <td>147701707</td>\n",
              "      <td>377.298584</td>\n",
              "      <td>449.991894</td>\n",
              "    </tr>\n",
              "    <tr>\n",
              "      <th>224</th>\n",
              "      <td>497.459595</td>\n",
              "      <td>468.409943</td>\n",
              "      <td>140397557</td>\n",
              "      <td>454.343292</td>\n",
              "      <td>508.607435</td>\n",
              "    </tr>\n",
              "    <tr>\n",
              "      <th>95</th>\n",
              "      <td>75.831284</td>\n",
              "      <td>88.634872</td>\n",
              "      <td>1011928610</td>\n",
              "      <td>67.305870</td>\n",
              "      <td>96.788457</td>\n",
              "    </tr>\n",
              "    <tr>\n",
              "      <th>131</th>\n",
              "      <td>308.352142</td>\n",
              "      <td>314.555817</td>\n",
              "      <td>264735567</td>\n",
              "      <td>291.326019</td>\n",
              "      <td>338.649954</td>\n",
              "    </tr>\n",
              "  </tbody>\n",
              "</table>\n",
              "</div>\n",
              "      <button class=\"colab-df-convert\" onclick=\"convertToInteractive('df-90bc7473-24c3-4959-9831-6b4272c1340e')\"\n",
              "              title=\"Convert this dataframe to an interactive table.\"\n",
              "              style=\"display:none;\">\n",
              "        \n",
              "  <svg xmlns=\"http://www.w3.org/2000/svg\" height=\"24px\"viewBox=\"0 0 24 24\"\n",
              "       width=\"24px\">\n",
              "    <path d=\"M0 0h24v24H0V0z\" fill=\"none\"/>\n",
              "    <path d=\"M18.56 5.44l.94 2.06.94-2.06 2.06-.94-2.06-.94-.94-2.06-.94 2.06-2.06.94zm-11 1L8.5 8.5l.94-2.06 2.06-.94-2.06-.94L8.5 2.5l-.94 2.06-2.06.94zm10 10l.94 2.06.94-2.06 2.06-.94-2.06-.94-.94-2.06-.94 2.06-2.06.94z\"/><path d=\"M17.41 7.96l-1.37-1.37c-.4-.4-.92-.59-1.43-.59-.52 0-1.04.2-1.43.59L10.3 9.45l-7.72 7.72c-.78.78-.78 2.05 0 2.83L4 21.41c.39.39.9.59 1.41.59.51 0 1.02-.2 1.41-.59l7.78-7.78 2.81-2.81c.8-.78.8-2.07 0-2.86zM5.41 20L4 18.59l7.72-7.72 1.47 1.35L5.41 20z\"/>\n",
              "  </svg>\n",
              "      </button>\n",
              "      \n",
              "  <style>\n",
              "    .colab-df-container {\n",
              "      display:flex;\n",
              "      flex-wrap:wrap;\n",
              "      gap: 12px;\n",
              "    }\n",
              "\n",
              "    .colab-df-convert {\n",
              "      background-color: #E8F0FE;\n",
              "      border: none;\n",
              "      border-radius: 50%;\n",
              "      cursor: pointer;\n",
              "      display: none;\n",
              "      fill: #1967D2;\n",
              "      height: 32px;\n",
              "      padding: 0 0 0 0;\n",
              "      width: 32px;\n",
              "    }\n",
              "\n",
              "    .colab-df-convert:hover {\n",
              "      background-color: #E2EBFA;\n",
              "      box-shadow: 0px 1px 2px rgba(60, 64, 67, 0.3), 0px 1px 3px 1px rgba(60, 64, 67, 0.15);\n",
              "      fill: #174EA6;\n",
              "    }\n",
              "\n",
              "    [theme=dark] .colab-df-convert {\n",
              "      background-color: #3B4455;\n",
              "      fill: #D2E3FC;\n",
              "    }\n",
              "\n",
              "    [theme=dark] .colab-df-convert:hover {\n",
              "      background-color: #434B5C;\n",
              "      box-shadow: 0px 1px 3px 1px rgba(0, 0, 0, 0.15);\n",
              "      filter: drop-shadow(0px 1px 2px rgba(0, 0, 0, 0.3));\n",
              "      fill: #FFFFFF;\n",
              "    }\n",
              "  </style>\n",
              "\n",
              "      <script>\n",
              "        const buttonEl =\n",
              "          document.querySelector('#df-90bc7473-24c3-4959-9831-6b4272c1340e button.colab-df-convert');\n",
              "        buttonEl.style.display =\n",
              "          google.colab.kernel.accessAllowed ? 'block' : 'none';\n",
              "\n",
              "        async function convertToInteractive(key) {\n",
              "          const element = document.querySelector('#df-90bc7473-24c3-4959-9831-6b4272c1340e');\n",
              "          const dataTable =\n",
              "            await google.colab.kernel.invokeFunction('convertToInteractive',\n",
              "                                                     [key], {});\n",
              "          if (!dataTable) return;\n",
              "\n",
              "          const docLinkHtml = 'Like what you see? Visit the ' +\n",
              "            '<a target=\"_blank\" href=https://colab.research.google.com/notebooks/data_table.ipynb>data table notebook</a>'\n",
              "            + ' to learn more about interactive tables.';\n",
              "          element.innerHTML = '';\n",
              "          dataTable['output_type'] = 'display_data';\n",
              "          await google.colab.output.renderOutput(dataTable, element);\n",
              "          const docLink = document.createElement('div');\n",
              "          docLink.innerHTML = docLinkHtml;\n",
              "          element.appendChild(docLink);\n",
              "        }\n",
              "      </script>\n",
              "    </div>\n",
              "  </div>\n",
              "  "
            ]
          },
          "metadata": {},
          "execution_count": 105
        }
      ]
    },
    {
      "cell_type": "markdown",
      "source": [
        "# **Thank you**"
      ],
      "metadata": {
        "id": "RjtKfHslWChy"
      }
    }
  ]
}