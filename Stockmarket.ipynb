{
  "nbformat": 4,
  "nbformat_minor": 0,
  "metadata": {
    "colab": {
      "provenance": [],
      "collapsed_sections": [
        "RjtKfHslWChy"
      ],
      "authorship_tag": "ABX9TyNnx25JPk56OiNOOf8Hep/r",
      "include_colab_link": true
    },
    "kernelspec": {
      "name": "python3",
      "display_name": "Python 3"
    },
    "language_info": {
      "name": "python"
    }
  },
  "cells": [
    {
      "cell_type": "markdown",
      "metadata": {
        "id": "view-in-github",
        "colab_type": "text"
      },
      "source": [
        "<a href=\"https://colab.research.google.com/github/queenakki/AI-ML/blob/project/Stockmarket.ipynb\" target=\"_parent\"><img src=\"https://colab.research.google.com/assets/colab-badge.svg\" alt=\"Open In Colab\"/></a>"
      ]
    },
    {
      "cell_type": "markdown",
      "source": [
        "# **Stock market data of Reliance companies**"
      ],
      "metadata": {
        "id": "oSvnO6QFGTEm"
      }
    },
    {
      "cell_type": "code",
      "execution_count": 46,
      "metadata": {
        "id": "_SXBOuJhGR8n"
      },
      "outputs": [],
      "source": [
        "import pandas as pd\n",
        "import numpy as ny\n",
        "import matplotlib.pyplot as mlt"
      ]
    },
    {
      "cell_type": "markdown",
      "source": [
        "# **importing the data**"
      ],
      "metadata": {
        "id": "DaKvN7GVG-lu"
      }
    },
    {
      "cell_type": "code",
      "source": [
        "from google.colab import drive\n",
        "drive.mount('/content/drive')"
      ],
      "metadata": {
        "colab": {
          "base_uri": "https://localhost:8080/"
        },
        "id": "zy44-BPMG9oL",
        "outputId": "033d79a1-9f27-4f6c-ff41-176fa4a53564"
      },
      "execution_count": 47,
      "outputs": [
        {
          "output_type": "stream",
          "name": "stdout",
          "text": [
            "Drive already mounted at /content/drive; to attempt to forcibly remount, call drive.mount(\"/content/drive\", force_remount=True).\n"
          ]
        }
      ]
    },
    {
      "cell_type": "markdown",
      "source": [
        "# **Loading the data**"
      ],
      "metadata": {
        "id": "K_X5Xr_4VEJN"
      }
    },
    {
      "cell_type": "code",
      "source": [
        "stock=pd.read_csv(\"/content/drive/MyDrive/RELIANCE.NS.csv\")\n",
        "stock.head()"
      ],
      "metadata": {
        "colab": {
          "base_uri": "https://localhost:8080/",
          "height": 206
        },
        "id": "MdSL0drdHfzE",
        "outputId": "3c852e56-0ddb-4efa-a94f-ade4c3809265"
      },
      "execution_count": 48,
      "outputs": [
        {
          "output_type": "execute_result",
          "data": {
            "text/plain": [
              "       Date       Open       High        Low      Close  Adj Close      Volume\n",
              "0  1/1/1996  15.859429  16.783918  11.763055  13.673923   9.001143  3587399513\n",
              "1  2/1/1996  13.538537  18.950085  13.499856  16.389366  10.788639  6910292355\n",
              "2  3/1/1996  16.517015  18.412411  14.892391  16.002550  10.534009  5434431895\n",
              "3  4/1/1996  16.072178  20.307806  15.936792  18.926874  12.459007  4130762758\n",
              "4  5/1/1996  20.655939  20.880293  17.449242  18.439487  12.138176  5496793040"
            ],
            "text/html": [
              "\n",
              "  <div id=\"df-6f21a967-9307-4ecf-a7d6-0b8fd99bed08\">\n",
              "    <div class=\"colab-df-container\">\n",
              "      <div>\n",
              "<style scoped>\n",
              "    .dataframe tbody tr th:only-of-type {\n",
              "        vertical-align: middle;\n",
              "    }\n",
              "\n",
              "    .dataframe tbody tr th {\n",
              "        vertical-align: top;\n",
              "    }\n",
              "\n",
              "    .dataframe thead th {\n",
              "        text-align: right;\n",
              "    }\n",
              "</style>\n",
              "<table border=\"1\" class=\"dataframe\">\n",
              "  <thead>\n",
              "    <tr style=\"text-align: right;\">\n",
              "      <th></th>\n",
              "      <th>Date</th>\n",
              "      <th>Open</th>\n",
              "      <th>High</th>\n",
              "      <th>Low</th>\n",
              "      <th>Close</th>\n",
              "      <th>Adj Close</th>\n",
              "      <th>Volume</th>\n",
              "    </tr>\n",
              "  </thead>\n",
              "  <tbody>\n",
              "    <tr>\n",
              "      <th>0</th>\n",
              "      <td>1/1/1996</td>\n",
              "      <td>15.859429</td>\n",
              "      <td>16.783918</td>\n",
              "      <td>11.763055</td>\n",
              "      <td>13.673923</td>\n",
              "      <td>9.001143</td>\n",
              "      <td>3587399513</td>\n",
              "    </tr>\n",
              "    <tr>\n",
              "      <th>1</th>\n",
              "      <td>2/1/1996</td>\n",
              "      <td>13.538537</td>\n",
              "      <td>18.950085</td>\n",
              "      <td>13.499856</td>\n",
              "      <td>16.389366</td>\n",
              "      <td>10.788639</td>\n",
              "      <td>6910292355</td>\n",
              "    </tr>\n",
              "    <tr>\n",
              "      <th>2</th>\n",
              "      <td>3/1/1996</td>\n",
              "      <td>16.517015</td>\n",
              "      <td>18.412411</td>\n",
              "      <td>14.892391</td>\n",
              "      <td>16.002550</td>\n",
              "      <td>10.534009</td>\n",
              "      <td>5434431895</td>\n",
              "    </tr>\n",
              "    <tr>\n",
              "      <th>3</th>\n",
              "      <td>4/1/1996</td>\n",
              "      <td>16.072178</td>\n",
              "      <td>20.307806</td>\n",
              "      <td>15.936792</td>\n",
              "      <td>18.926874</td>\n",
              "      <td>12.459007</td>\n",
              "      <td>4130762758</td>\n",
              "    </tr>\n",
              "    <tr>\n",
              "      <th>4</th>\n",
              "      <td>5/1/1996</td>\n",
              "      <td>20.655939</td>\n",
              "      <td>20.880293</td>\n",
              "      <td>17.449242</td>\n",
              "      <td>18.439487</td>\n",
              "      <td>12.138176</td>\n",
              "      <td>5496793040</td>\n",
              "    </tr>\n",
              "  </tbody>\n",
              "</table>\n",
              "</div>\n",
              "      <button class=\"colab-df-convert\" onclick=\"convertToInteractive('df-6f21a967-9307-4ecf-a7d6-0b8fd99bed08')\"\n",
              "              title=\"Convert this dataframe to an interactive table.\"\n",
              "              style=\"display:none;\">\n",
              "        \n",
              "  <svg xmlns=\"http://www.w3.org/2000/svg\" height=\"24px\"viewBox=\"0 0 24 24\"\n",
              "       width=\"24px\">\n",
              "    <path d=\"M0 0h24v24H0V0z\" fill=\"none\"/>\n",
              "    <path d=\"M18.56 5.44l.94 2.06.94-2.06 2.06-.94-2.06-.94-.94-2.06-.94 2.06-2.06.94zm-11 1L8.5 8.5l.94-2.06 2.06-.94-2.06-.94L8.5 2.5l-.94 2.06-2.06.94zm10 10l.94 2.06.94-2.06 2.06-.94-2.06-.94-.94-2.06-.94 2.06-2.06.94z\"/><path d=\"M17.41 7.96l-1.37-1.37c-.4-.4-.92-.59-1.43-.59-.52 0-1.04.2-1.43.59L10.3 9.45l-7.72 7.72c-.78.78-.78 2.05 0 2.83L4 21.41c.39.39.9.59 1.41.59.51 0 1.02-.2 1.41-.59l7.78-7.78 2.81-2.81c.8-.78.8-2.07 0-2.86zM5.41 20L4 18.59l7.72-7.72 1.47 1.35L5.41 20z\"/>\n",
              "  </svg>\n",
              "      </button>\n",
              "      \n",
              "  <style>\n",
              "    .colab-df-container {\n",
              "      display:flex;\n",
              "      flex-wrap:wrap;\n",
              "      gap: 12px;\n",
              "    }\n",
              "\n",
              "    .colab-df-convert {\n",
              "      background-color: #E8F0FE;\n",
              "      border: none;\n",
              "      border-radius: 50%;\n",
              "      cursor: pointer;\n",
              "      display: none;\n",
              "      fill: #1967D2;\n",
              "      height: 32px;\n",
              "      padding: 0 0 0 0;\n",
              "      width: 32px;\n",
              "    }\n",
              "\n",
              "    .colab-df-convert:hover {\n",
              "      background-color: #E2EBFA;\n",
              "      box-shadow: 0px 1px 2px rgba(60, 64, 67, 0.3), 0px 1px 3px 1px rgba(60, 64, 67, 0.15);\n",
              "      fill: #174EA6;\n",
              "    }\n",
              "\n",
              "    [theme=dark] .colab-df-convert {\n",
              "      background-color: #3B4455;\n",
              "      fill: #D2E3FC;\n",
              "    }\n",
              "\n",
              "    [theme=dark] .colab-df-convert:hover {\n",
              "      background-color: #434B5C;\n",
              "      box-shadow: 0px 1px 3px 1px rgba(0, 0, 0, 0.15);\n",
              "      filter: drop-shadow(0px 1px 2px rgba(0, 0, 0, 0.3));\n",
              "      fill: #FFFFFF;\n",
              "    }\n",
              "  </style>\n",
              "\n",
              "      <script>\n",
              "        const buttonEl =\n",
              "          document.querySelector('#df-6f21a967-9307-4ecf-a7d6-0b8fd99bed08 button.colab-df-convert');\n",
              "        buttonEl.style.display =\n",
              "          google.colab.kernel.accessAllowed ? 'block' : 'none';\n",
              "\n",
              "        async function convertToInteractive(key) {\n",
              "          const element = document.querySelector('#df-6f21a967-9307-4ecf-a7d6-0b8fd99bed08');\n",
              "          const dataTable =\n",
              "            await google.colab.kernel.invokeFunction('convertToInteractive',\n",
              "                                                     [key], {});\n",
              "          if (!dataTable) return;\n",
              "\n",
              "          const docLinkHtml = 'Like what you see? Visit the ' +\n",
              "            '<a target=\"_blank\" href=https://colab.research.google.com/notebooks/data_table.ipynb>data table notebook</a>'\n",
              "            + ' to learn more about interactive tables.';\n",
              "          element.innerHTML = '';\n",
              "          dataTable['output_type'] = 'display_data';\n",
              "          await google.colab.output.renderOutput(dataTable, element);\n",
              "          const docLink = document.createElement('div');\n",
              "          docLink.innerHTML = docLinkHtml;\n",
              "          element.appendChild(docLink);\n",
              "        }\n",
              "      </script>\n",
              "    </div>\n",
              "  </div>\n",
              "  "
            ]
          },
          "metadata": {},
          "execution_count": 48
        }
      ]
    },
    {
      "cell_type": "markdown",
      "source": [
        "# **satestical information**"
      ],
      "metadata": {
        "id": "fjCUCbI0VIa9"
      }
    },
    {
      "cell_type": "code",
      "source": [
        "stock.shape"
      ],
      "metadata": {
        "colab": {
          "base_uri": "https://localhost:8080/"
        },
        "id": "2waUxiI9IRud",
        "outputId": "5b7d19a3-e484-4f97-90cf-4fef2b00a5d2"
      },
      "execution_count": 49,
      "outputs": [
        {
          "output_type": "execute_result",
          "data": {
            "text/plain": [
              "(325, 7)"
            ]
          },
          "metadata": {},
          "execution_count": 49
        }
      ]
    },
    {
      "cell_type": "code",
      "source": [
        "stock.info()"
      ],
      "metadata": {
        "colab": {
          "base_uri": "https://localhost:8080/"
        },
        "id": "g7At6BozIoEv",
        "outputId": "93f7ebd1-1b84-4871-d851-89aa1c91300b"
      },
      "execution_count": 50,
      "outputs": [
        {
          "output_type": "stream",
          "name": "stdout",
          "text": [
            "<class 'pandas.core.frame.DataFrame'>\n",
            "RangeIndex: 325 entries, 0 to 324\n",
            "Data columns (total 7 columns):\n",
            " #   Column     Non-Null Count  Dtype  \n",
            "---  ------     --------------  -----  \n",
            " 0   Date       325 non-null    object \n",
            " 1   Open       325 non-null    float64\n",
            " 2   High       325 non-null    float64\n",
            " 3   Low        325 non-null    float64\n",
            " 4   Close      325 non-null    float64\n",
            " 5   Adj Close  325 non-null    float64\n",
            " 6   Volume     325 non-null    int64  \n",
            "dtypes: float64(5), int64(1), object(1)\n",
            "memory usage: 17.9+ KB\n"
          ]
        }
      ]
    },
    {
      "cell_type": "markdown",
      "source": [
        "pie chart"
      ],
      "metadata": {
        "id": "59fnRrVfQphb"
      }
    },
    {
      "cell_type": "markdown",
      "source": [
        "# **Binary conversion**"
      ],
      "metadata": {
        "id": "dXcncGn7_FD6"
      }
    },
    {
      "cell_type": "code",
      "source": [
        "timefmt = \"%d/%m/%y %S:%M:%H\" \n",
        "stock['Date'] = pd.to_datetime(stock['Date'], format = timefmt, errors='coerce')"
      ],
      "metadata": {
        "id": "BBCxsBueJaCp"
      },
      "execution_count": 51,
      "outputs": []
    },
    {
      "cell_type": "code",
      "source": [
        "stock.head()"
      ],
      "metadata": {
        "colab": {
          "base_uri": "https://localhost:8080/",
          "height": 206
        },
        "id": "5RpsgDwYCu8O",
        "outputId": "3d56d2c9-65ec-41db-b472-95db74a86c8c"
      },
      "execution_count": 52,
      "outputs": [
        {
          "output_type": "execute_result",
          "data": {
            "text/plain": [
              "  Date       Open       High        Low      Close  Adj Close      Volume\n",
              "0  NaT  15.859429  16.783918  11.763055  13.673923   9.001143  3587399513\n",
              "1  NaT  13.538537  18.950085  13.499856  16.389366  10.788639  6910292355\n",
              "2  NaT  16.517015  18.412411  14.892391  16.002550  10.534009  5434431895\n",
              "3  NaT  16.072178  20.307806  15.936792  18.926874  12.459007  4130762758\n",
              "4  NaT  20.655939  20.880293  17.449242  18.439487  12.138176  5496793040"
            ],
            "text/html": [
              "\n",
              "  <div id=\"df-89e125b7-412c-45a0-a930-32fae0703dd2\">\n",
              "    <div class=\"colab-df-container\">\n",
              "      <div>\n",
              "<style scoped>\n",
              "    .dataframe tbody tr th:only-of-type {\n",
              "        vertical-align: middle;\n",
              "    }\n",
              "\n",
              "    .dataframe tbody tr th {\n",
              "        vertical-align: top;\n",
              "    }\n",
              "\n",
              "    .dataframe thead th {\n",
              "        text-align: right;\n",
              "    }\n",
              "</style>\n",
              "<table border=\"1\" class=\"dataframe\">\n",
              "  <thead>\n",
              "    <tr style=\"text-align: right;\">\n",
              "      <th></th>\n",
              "      <th>Date</th>\n",
              "      <th>Open</th>\n",
              "      <th>High</th>\n",
              "      <th>Low</th>\n",
              "      <th>Close</th>\n",
              "      <th>Adj Close</th>\n",
              "      <th>Volume</th>\n",
              "    </tr>\n",
              "  </thead>\n",
              "  <tbody>\n",
              "    <tr>\n",
              "      <th>0</th>\n",
              "      <td>NaT</td>\n",
              "      <td>15.859429</td>\n",
              "      <td>16.783918</td>\n",
              "      <td>11.763055</td>\n",
              "      <td>13.673923</td>\n",
              "      <td>9.001143</td>\n",
              "      <td>3587399513</td>\n",
              "    </tr>\n",
              "    <tr>\n",
              "      <th>1</th>\n",
              "      <td>NaT</td>\n",
              "      <td>13.538537</td>\n",
              "      <td>18.950085</td>\n",
              "      <td>13.499856</td>\n",
              "      <td>16.389366</td>\n",
              "      <td>10.788639</td>\n",
              "      <td>6910292355</td>\n",
              "    </tr>\n",
              "    <tr>\n",
              "      <th>2</th>\n",
              "      <td>NaT</td>\n",
              "      <td>16.517015</td>\n",
              "      <td>18.412411</td>\n",
              "      <td>14.892391</td>\n",
              "      <td>16.002550</td>\n",
              "      <td>10.534009</td>\n",
              "      <td>5434431895</td>\n",
              "    </tr>\n",
              "    <tr>\n",
              "      <th>3</th>\n",
              "      <td>NaT</td>\n",
              "      <td>16.072178</td>\n",
              "      <td>20.307806</td>\n",
              "      <td>15.936792</td>\n",
              "      <td>18.926874</td>\n",
              "      <td>12.459007</td>\n",
              "      <td>4130762758</td>\n",
              "    </tr>\n",
              "    <tr>\n",
              "      <th>4</th>\n",
              "      <td>NaT</td>\n",
              "      <td>20.655939</td>\n",
              "      <td>20.880293</td>\n",
              "      <td>17.449242</td>\n",
              "      <td>18.439487</td>\n",
              "      <td>12.138176</td>\n",
              "      <td>5496793040</td>\n",
              "    </tr>\n",
              "  </tbody>\n",
              "</table>\n",
              "</div>\n",
              "      <button class=\"colab-df-convert\" onclick=\"convertToInteractive('df-89e125b7-412c-45a0-a930-32fae0703dd2')\"\n",
              "              title=\"Convert this dataframe to an interactive table.\"\n",
              "              style=\"display:none;\">\n",
              "        \n",
              "  <svg xmlns=\"http://www.w3.org/2000/svg\" height=\"24px\"viewBox=\"0 0 24 24\"\n",
              "       width=\"24px\">\n",
              "    <path d=\"M0 0h24v24H0V0z\" fill=\"none\"/>\n",
              "    <path d=\"M18.56 5.44l.94 2.06.94-2.06 2.06-.94-2.06-.94-.94-2.06-.94 2.06-2.06.94zm-11 1L8.5 8.5l.94-2.06 2.06-.94-2.06-.94L8.5 2.5l-.94 2.06-2.06.94zm10 10l.94 2.06.94-2.06 2.06-.94-2.06-.94-.94-2.06-.94 2.06-2.06.94z\"/><path d=\"M17.41 7.96l-1.37-1.37c-.4-.4-.92-.59-1.43-.59-.52 0-1.04.2-1.43.59L10.3 9.45l-7.72 7.72c-.78.78-.78 2.05 0 2.83L4 21.41c.39.39.9.59 1.41.59.51 0 1.02-.2 1.41-.59l7.78-7.78 2.81-2.81c.8-.78.8-2.07 0-2.86zM5.41 20L4 18.59l7.72-7.72 1.47 1.35L5.41 20z\"/>\n",
              "  </svg>\n",
              "      </button>\n",
              "      \n",
              "  <style>\n",
              "    .colab-df-container {\n",
              "      display:flex;\n",
              "      flex-wrap:wrap;\n",
              "      gap: 12px;\n",
              "    }\n",
              "\n",
              "    .colab-df-convert {\n",
              "      background-color: #E8F0FE;\n",
              "      border: none;\n",
              "      border-radius: 50%;\n",
              "      cursor: pointer;\n",
              "      display: none;\n",
              "      fill: #1967D2;\n",
              "      height: 32px;\n",
              "      padding: 0 0 0 0;\n",
              "      width: 32px;\n",
              "    }\n",
              "\n",
              "    .colab-df-convert:hover {\n",
              "      background-color: #E2EBFA;\n",
              "      box-shadow: 0px 1px 2px rgba(60, 64, 67, 0.3), 0px 1px 3px 1px rgba(60, 64, 67, 0.15);\n",
              "      fill: #174EA6;\n",
              "    }\n",
              "\n",
              "    [theme=dark] .colab-df-convert {\n",
              "      background-color: #3B4455;\n",
              "      fill: #D2E3FC;\n",
              "    }\n",
              "\n",
              "    [theme=dark] .colab-df-convert:hover {\n",
              "      background-color: #434B5C;\n",
              "      box-shadow: 0px 1px 3px 1px rgba(0, 0, 0, 0.15);\n",
              "      filter: drop-shadow(0px 1px 2px rgba(0, 0, 0, 0.3));\n",
              "      fill: #FFFFFF;\n",
              "    }\n",
              "  </style>\n",
              "\n",
              "      <script>\n",
              "        const buttonEl =\n",
              "          document.querySelector('#df-89e125b7-412c-45a0-a930-32fae0703dd2 button.colab-df-convert');\n",
              "        buttonEl.style.display =\n",
              "          google.colab.kernel.accessAllowed ? 'block' : 'none';\n",
              "\n",
              "        async function convertToInteractive(key) {\n",
              "          const element = document.querySelector('#df-89e125b7-412c-45a0-a930-32fae0703dd2');\n",
              "          const dataTable =\n",
              "            await google.colab.kernel.invokeFunction('convertToInteractive',\n",
              "                                                     [key], {});\n",
              "          if (!dataTable) return;\n",
              "\n",
              "          const docLinkHtml = 'Like what you see? Visit the ' +\n",
              "            '<a target=\"_blank\" href=https://colab.research.google.com/notebooks/data_table.ipynb>data table notebook</a>'\n",
              "            + ' to learn more about interactive tables.';\n",
              "          element.innerHTML = '';\n",
              "          dataTable['output_type'] = 'display_data';\n",
              "          await google.colab.output.renderOutput(dataTable, element);\n",
              "          const docLink = document.createElement('div');\n",
              "          docLink.innerHTML = docLinkHtml;\n",
              "          element.appendChild(docLink);\n",
              "        }\n",
              "      </script>\n",
              "    </div>\n",
              "  </div>\n",
              "  "
            ]
          },
          "metadata": {},
          "execution_count": 52
        }
      ]
    },
    {
      "cell_type": "markdown",
      "source": [
        "# **Categorical conversion**"
      ],
      "metadata": {
        "id": "gIr4rWQMDdxS"
      }
    },
    {
      "cell_type": "code",
      "source": [
        "# Dropping the first column from status dataset\n",
        "status = pd.get_dummies(stock['Date'], drop_first = True)\n",
        "\n",
        "# Adding the status to the original housing dataframe\n",
        "stock = pd.concat([stock, status], axis = 1)\n",
        "\n",
        "# Dropping 'furnishingstatus' as we have created the dummies for it\n",
        "stock.drop(['Date'], axis = 1, inplace = True)\n",
        "\n",
        "stock"
      ],
      "metadata": {
        "colab": {
          "base_uri": "https://localhost:8080/",
          "height": 424
        },
        "id": "otTEj7qLFYBg",
        "outputId": "2246577c-5dfe-4b08-f180-0f2b9586aa3e"
      },
      "execution_count": 53,
      "outputs": [
        {
          "output_type": "execute_result",
          "data": {
            "text/plain": [
              "            Open         High          Low        Close    Adj Close  \\\n",
              "0      15.859429    16.783918    11.763055    13.673923     9.001143   \n",
              "1      13.538537    18.950085    13.499856    16.389366    10.788639   \n",
              "2      16.517015    18.412411    14.892391    16.002550    10.534009   \n",
              "3      16.072178    20.307806    15.936792    18.926874    12.459007   \n",
              "4      20.655939    20.880293    17.449242    18.439487    12.138176   \n",
              "..           ...          ...          ...          ...          ...   \n",
              "320  2582.649902  2629.699951  2311.000000  2377.750000  2377.750000   \n",
              "321  2391.500000  2560.949951  2343.100098  2549.600098  2549.600098   \n",
              "322  2600.000000  2745.449951  2502.000000  2731.350098  2731.350098   \n",
              "323  2741.800049  2755.000000  2700.600098  2722.149902  2722.149902   \n",
              "324  2730.000000  2748.000000  2700.600098  2722.149902  2722.149902   \n",
              "\n",
              "         Volume  \n",
              "0    3587399513  \n",
              "1    6910292355  \n",
              "2    5434431895  \n",
              "3    4130762758  \n",
              "4    5496793040  \n",
              "..          ...  \n",
              "320   118852012  \n",
              "321    94498167  \n",
              "322   104414767  \n",
              "323     9726291  \n",
              "324     5346727  \n",
              "\n",
              "[325 rows x 6 columns]"
            ],
            "text/html": [
              "\n",
              "  <div id=\"df-2be8b25e-7f51-4126-b820-71605aee0d4c\">\n",
              "    <div class=\"colab-df-container\">\n",
              "      <div>\n",
              "<style scoped>\n",
              "    .dataframe tbody tr th:only-of-type {\n",
              "        vertical-align: middle;\n",
              "    }\n",
              "\n",
              "    .dataframe tbody tr th {\n",
              "        vertical-align: top;\n",
              "    }\n",
              "\n",
              "    .dataframe thead th {\n",
              "        text-align: right;\n",
              "    }\n",
              "</style>\n",
              "<table border=\"1\" class=\"dataframe\">\n",
              "  <thead>\n",
              "    <tr style=\"text-align: right;\">\n",
              "      <th></th>\n",
              "      <th>Open</th>\n",
              "      <th>High</th>\n",
              "      <th>Low</th>\n",
              "      <th>Close</th>\n",
              "      <th>Adj Close</th>\n",
              "      <th>Volume</th>\n",
              "    </tr>\n",
              "  </thead>\n",
              "  <tbody>\n",
              "    <tr>\n",
              "      <th>0</th>\n",
              "      <td>15.859429</td>\n",
              "      <td>16.783918</td>\n",
              "      <td>11.763055</td>\n",
              "      <td>13.673923</td>\n",
              "      <td>9.001143</td>\n",
              "      <td>3587399513</td>\n",
              "    </tr>\n",
              "    <tr>\n",
              "      <th>1</th>\n",
              "      <td>13.538537</td>\n",
              "      <td>18.950085</td>\n",
              "      <td>13.499856</td>\n",
              "      <td>16.389366</td>\n",
              "      <td>10.788639</td>\n",
              "      <td>6910292355</td>\n",
              "    </tr>\n",
              "    <tr>\n",
              "      <th>2</th>\n",
              "      <td>16.517015</td>\n",
              "      <td>18.412411</td>\n",
              "      <td>14.892391</td>\n",
              "      <td>16.002550</td>\n",
              "      <td>10.534009</td>\n",
              "      <td>5434431895</td>\n",
              "    </tr>\n",
              "    <tr>\n",
              "      <th>3</th>\n",
              "      <td>16.072178</td>\n",
              "      <td>20.307806</td>\n",
              "      <td>15.936792</td>\n",
              "      <td>18.926874</td>\n",
              "      <td>12.459007</td>\n",
              "      <td>4130762758</td>\n",
              "    </tr>\n",
              "    <tr>\n",
              "      <th>4</th>\n",
              "      <td>20.655939</td>\n",
              "      <td>20.880293</td>\n",
              "      <td>17.449242</td>\n",
              "      <td>18.439487</td>\n",
              "      <td>12.138176</td>\n",
              "      <td>5496793040</td>\n",
              "    </tr>\n",
              "    <tr>\n",
              "      <th>...</th>\n",
              "      <td>...</td>\n",
              "      <td>...</td>\n",
              "      <td>...</td>\n",
              "      <td>...</td>\n",
              "      <td>...</td>\n",
              "      <td>...</td>\n",
              "    </tr>\n",
              "    <tr>\n",
              "      <th>320</th>\n",
              "      <td>2582.649902</td>\n",
              "      <td>2629.699951</td>\n",
              "      <td>2311.000000</td>\n",
              "      <td>2377.750000</td>\n",
              "      <td>2377.750000</td>\n",
              "      <td>118852012</td>\n",
              "    </tr>\n",
              "    <tr>\n",
              "      <th>321</th>\n",
              "      <td>2391.500000</td>\n",
              "      <td>2560.949951</td>\n",
              "      <td>2343.100098</td>\n",
              "      <td>2549.600098</td>\n",
              "      <td>2549.600098</td>\n",
              "      <td>94498167</td>\n",
              "    </tr>\n",
              "    <tr>\n",
              "      <th>322</th>\n",
              "      <td>2600.000000</td>\n",
              "      <td>2745.449951</td>\n",
              "      <td>2502.000000</td>\n",
              "      <td>2731.350098</td>\n",
              "      <td>2731.350098</td>\n",
              "      <td>104414767</td>\n",
              "    </tr>\n",
              "    <tr>\n",
              "      <th>323</th>\n",
              "      <td>2741.800049</td>\n",
              "      <td>2755.000000</td>\n",
              "      <td>2700.600098</td>\n",
              "      <td>2722.149902</td>\n",
              "      <td>2722.149902</td>\n",
              "      <td>9726291</td>\n",
              "    </tr>\n",
              "    <tr>\n",
              "      <th>324</th>\n",
              "      <td>2730.000000</td>\n",
              "      <td>2748.000000</td>\n",
              "      <td>2700.600098</td>\n",
              "      <td>2722.149902</td>\n",
              "      <td>2722.149902</td>\n",
              "      <td>5346727</td>\n",
              "    </tr>\n",
              "  </tbody>\n",
              "</table>\n",
              "<p>325 rows × 6 columns</p>\n",
              "</div>\n",
              "      <button class=\"colab-df-convert\" onclick=\"convertToInteractive('df-2be8b25e-7f51-4126-b820-71605aee0d4c')\"\n",
              "              title=\"Convert this dataframe to an interactive table.\"\n",
              "              style=\"display:none;\">\n",
              "        \n",
              "  <svg xmlns=\"http://www.w3.org/2000/svg\" height=\"24px\"viewBox=\"0 0 24 24\"\n",
              "       width=\"24px\">\n",
              "    <path d=\"M0 0h24v24H0V0z\" fill=\"none\"/>\n",
              "    <path d=\"M18.56 5.44l.94 2.06.94-2.06 2.06-.94-2.06-.94-.94-2.06-.94 2.06-2.06.94zm-11 1L8.5 8.5l.94-2.06 2.06-.94-2.06-.94L8.5 2.5l-.94 2.06-2.06.94zm10 10l.94 2.06.94-2.06 2.06-.94-2.06-.94-.94-2.06-.94 2.06-2.06.94z\"/><path d=\"M17.41 7.96l-1.37-1.37c-.4-.4-.92-.59-1.43-.59-.52 0-1.04.2-1.43.59L10.3 9.45l-7.72 7.72c-.78.78-.78 2.05 0 2.83L4 21.41c.39.39.9.59 1.41.59.51 0 1.02-.2 1.41-.59l7.78-7.78 2.81-2.81c.8-.78.8-2.07 0-2.86zM5.41 20L4 18.59l7.72-7.72 1.47 1.35L5.41 20z\"/>\n",
              "  </svg>\n",
              "      </button>\n",
              "      \n",
              "  <style>\n",
              "    .colab-df-container {\n",
              "      display:flex;\n",
              "      flex-wrap:wrap;\n",
              "      gap: 12px;\n",
              "    }\n",
              "\n",
              "    .colab-df-convert {\n",
              "      background-color: #E8F0FE;\n",
              "      border: none;\n",
              "      border-radius: 50%;\n",
              "      cursor: pointer;\n",
              "      display: none;\n",
              "      fill: #1967D2;\n",
              "      height: 32px;\n",
              "      padding: 0 0 0 0;\n",
              "      width: 32px;\n",
              "    }\n",
              "\n",
              "    .colab-df-convert:hover {\n",
              "      background-color: #E2EBFA;\n",
              "      box-shadow: 0px 1px 2px rgba(60, 64, 67, 0.3), 0px 1px 3px 1px rgba(60, 64, 67, 0.15);\n",
              "      fill: #174EA6;\n",
              "    }\n",
              "\n",
              "    [theme=dark] .colab-df-convert {\n",
              "      background-color: #3B4455;\n",
              "      fill: #D2E3FC;\n",
              "    }\n",
              "\n",
              "    [theme=dark] .colab-df-convert:hover {\n",
              "      background-color: #434B5C;\n",
              "      box-shadow: 0px 1px 3px 1px rgba(0, 0, 0, 0.15);\n",
              "      filter: drop-shadow(0px 1px 2px rgba(0, 0, 0, 0.3));\n",
              "      fill: #FFFFFF;\n",
              "    }\n",
              "  </style>\n",
              "\n",
              "      <script>\n",
              "        const buttonEl =\n",
              "          document.querySelector('#df-2be8b25e-7f51-4126-b820-71605aee0d4c button.colab-df-convert');\n",
              "        buttonEl.style.display =\n",
              "          google.colab.kernel.accessAllowed ? 'block' : 'none';\n",
              "\n",
              "        async function convertToInteractive(key) {\n",
              "          const element = document.querySelector('#df-2be8b25e-7f51-4126-b820-71605aee0d4c');\n",
              "          const dataTable =\n",
              "            await google.colab.kernel.invokeFunction('convertToInteractive',\n",
              "                                                     [key], {});\n",
              "          if (!dataTable) return;\n",
              "\n",
              "          const docLinkHtml = 'Like what you see? Visit the ' +\n",
              "            '<a target=\"_blank\" href=https://colab.research.google.com/notebooks/data_table.ipynb>data table notebook</a>'\n",
              "            + ' to learn more about interactive tables.';\n",
              "          element.innerHTML = '';\n",
              "          dataTable['output_type'] = 'display_data';\n",
              "          await google.colab.output.renderOutput(dataTable, element);\n",
              "          const docLink = document.createElement('div');\n",
              "          docLink.innerHTML = docLinkHtml;\n",
              "          element.appendChild(docLink);\n",
              "        }\n",
              "      </script>\n",
              "    </div>\n",
              "  </div>\n",
              "  "
            ]
          },
          "metadata": {},
          "execution_count": 53
        }
      ]
    },
    {
      "cell_type": "markdown",
      "source": [
        "# **checking null value**"
      ],
      "metadata": {
        "id": "lzOAkBiEywH6"
      }
    },
    {
      "cell_type": "code",
      "source": [
        "stock.isnull().sum()"
      ],
      "metadata": {
        "colab": {
          "base_uri": "https://localhost:8080/"
        },
        "id": "wVBB0tTpOrWO",
        "outputId": "5d034bb6-ca4c-4d63-d51f-8a80f8831442"
      },
      "execution_count": 54,
      "outputs": [
        {
          "output_type": "execute_result",
          "data": {
            "text/plain": [
              "Open         0\n",
              "High         0\n",
              "Low          0\n",
              "Close        0\n",
              "Adj Close    0\n",
              "Volume       0\n",
              "dtype: int64"
            ]
          },
          "metadata": {},
          "execution_count": 54
        }
      ]
    },
    {
      "cell_type": "markdown",
      "source": [
        "# **outerline direction**"
      ],
      "metadata": {
        "id": "DKHwdIrxG7Kb"
      }
    },
    {
      "cell_type": "code",
      "source": [
        "def detect_outliers_zscore(data):\n",
        "    outliers = []\n",
        "    thres = 3\n",
        "    mean = ny.mean(data)\n",
        "    std = ny.std(data)\n",
        "    #print(mean, std)\n",
        "    for i in data:\n",
        "        #print(i)\n",
        "        z_score = (i-mean)/std\n",
        "        if (ny.abs(z_score) > thres):\n",
        "            outliers.append(i)\n",
        "    return outliers# Driver code"
      ],
      "metadata": {
        "id": "n5FFoRThHCmX"
      },
      "execution_count": 55,
      "outputs": []
    },
    {
      "cell_type": "code",
      "source": [
        "sample_outliers_Open = detect_outliers_zscore(stock['Open'])\n",
        "sample_outliers_Volume = detect_outliers_zscore(stock['Volume'])\n",
        "sample_outliers_Low = detect_outliers_zscore(stock['Low'])\n",
        "print(\"Outliers in tata-volume column from Z-scores method: \", sample_outliers_Open)\n",
        "print(\"Outliers in reliance-volume from Z-scores method: \", sample_outliers_Volume)\n",
        "print(\"Outliers in amazon-volume column from Z-scores method: \", sample_outliers_Low)"
      ],
      "metadata": {
        "colab": {
          "base_uri": "https://localhost:8080/"
        },
        "id": "F2v-3ukLHRe_",
        "outputId": "34a2822b-9e83-4330-873a-62354bd14c9b"
      },
      "execution_count": 56,
      "outputs": [
        {
          "output_type": "stream",
          "name": "stdout",
          "text": [
            "Outliers in tata-volume column from Z-scores method:  [2636.0, 2762.0, 2634.300049, 2574.899902, 2582.649902, 2600.0, 2741.800049, 2730.0]\n",
            "Outliers in reliance-volume from Z-scores method:  [3587399513, 6910292355, 5434431895, 4130762758, 5496793040, 6504446914, 4061157843, 3331175205]\n",
            "Outliers in amazon-volume column from Z-scores method:  [2495.0, 2521.800049, 2445.0, 2507.600098, 2502.0, 2700.600098, 2700.600098]\n"
          ]
        }
      ]
    },
    {
      "cell_type": "code",
      "source": [
        "from scipy.stats import zscore\n",
        "z1 = ny.abs(zscore(stock['Low']))\n",
        "z2 = ny.abs(zscore(stock['Close']))\n",
        "z3 = ny.abs(zscore(stock['Volume']))\n",
        "stock['Zscore_tata-volume'] = z1\n",
        "stock['Zscore_Reliance-Volume'] = z2\n",
        "stock['Zscore_Reliance-Volume.1'] = z3\n",
        "outliers_tata_volume=len(stock[stock['Zscore_tata-volume']>3])\n",
        "outliers_Reliance_Volume=len(stock[stock['Zscore_Reliance-Volume']>3])\n",
        "outliers_Reliance_Volume_1=len(stock[stock['Zscore_Reliance-Volume.1']>3])\n",
        "data_z = stock[stock['Zscore_tata-volume']<3]\n",
        "data_z = stock[stock['Zscore_Reliance-Volume']<3]\n",
        "data_z = stock[stock['Zscore_Reliance-Volume.1']<3]\n",
        "stock=data_z.drop(['Zscore_tata-volume', 'Zscore_Reliance-Volume', 'Zscore_Reliance-Volume.1'], axis=1)\n",
        "stock"
      ],
      "metadata": {
        "colab": {
          "base_uri": "https://localhost:8080/",
          "height": 424
        },
        "id": "nUtOVMYNNZ5g",
        "outputId": "82566d04-f13a-48b7-dbfe-5b1c7b4f0561"
      },
      "execution_count": 57,
      "outputs": [
        {
          "output_type": "execute_result",
          "data": {
            "text/plain": [
              "            Open         High          Low        Close    Adj Close  \\\n",
              "5      18.799227    19.452944    16.064442    16.524752    11.329605   \n",
              "7      16.861280    17.019875    15.020040    16.366158    11.220869   \n",
              "8      16.408707    16.625324    14.343113    14.780215    10.133524   \n",
              "9      14.853709    17.089502    13.964034    15.627340    10.714327   \n",
              "10     15.739517    16.710423    13.441833    14.025925     9.616371   \n",
              "..           ...          ...          ...          ...          ...   \n",
              "320  2582.649902  2629.699951  2311.000000  2377.750000  2377.750000   \n",
              "321  2391.500000  2560.949951  2343.100098  2549.600098  2549.600098   \n",
              "322  2600.000000  2745.449951  2502.000000  2731.350098  2731.350098   \n",
              "323  2741.800049  2755.000000  2700.600098  2722.149902  2722.149902   \n",
              "324  2730.000000  2748.000000  2700.600098  2722.149902  2722.149902   \n",
              "\n",
              "         Volume  \n",
              "5    2949582293  \n",
              "7    2675395277  \n",
              "8    1704430739  \n",
              "9    2351973533  \n",
              "10   1750434601  \n",
              "..          ...  \n",
              "320   118852012  \n",
              "321    94498167  \n",
              "322   104414767  \n",
              "323     9726291  \n",
              "324     5346727  \n",
              "\n",
              "[317 rows x 6 columns]"
            ],
            "text/html": [
              "\n",
              "  <div id=\"df-99c4eab8-f37d-4390-8cf8-db1bd31ba72f\">\n",
              "    <div class=\"colab-df-container\">\n",
              "      <div>\n",
              "<style scoped>\n",
              "    .dataframe tbody tr th:only-of-type {\n",
              "        vertical-align: middle;\n",
              "    }\n",
              "\n",
              "    .dataframe tbody tr th {\n",
              "        vertical-align: top;\n",
              "    }\n",
              "\n",
              "    .dataframe thead th {\n",
              "        text-align: right;\n",
              "    }\n",
              "</style>\n",
              "<table border=\"1\" class=\"dataframe\">\n",
              "  <thead>\n",
              "    <tr style=\"text-align: right;\">\n",
              "      <th></th>\n",
              "      <th>Open</th>\n",
              "      <th>High</th>\n",
              "      <th>Low</th>\n",
              "      <th>Close</th>\n",
              "      <th>Adj Close</th>\n",
              "      <th>Volume</th>\n",
              "    </tr>\n",
              "  </thead>\n",
              "  <tbody>\n",
              "    <tr>\n",
              "      <th>5</th>\n",
              "      <td>18.799227</td>\n",
              "      <td>19.452944</td>\n",
              "      <td>16.064442</td>\n",
              "      <td>16.524752</td>\n",
              "      <td>11.329605</td>\n",
              "      <td>2949582293</td>\n",
              "    </tr>\n",
              "    <tr>\n",
              "      <th>7</th>\n",
              "      <td>16.861280</td>\n",
              "      <td>17.019875</td>\n",
              "      <td>15.020040</td>\n",
              "      <td>16.366158</td>\n",
              "      <td>11.220869</td>\n",
              "      <td>2675395277</td>\n",
              "    </tr>\n",
              "    <tr>\n",
              "      <th>8</th>\n",
              "      <td>16.408707</td>\n",
              "      <td>16.625324</td>\n",
              "      <td>14.343113</td>\n",
              "      <td>14.780215</td>\n",
              "      <td>10.133524</td>\n",
              "      <td>1704430739</td>\n",
              "    </tr>\n",
              "    <tr>\n",
              "      <th>9</th>\n",
              "      <td>14.853709</td>\n",
              "      <td>17.089502</td>\n",
              "      <td>13.964034</td>\n",
              "      <td>15.627340</td>\n",
              "      <td>10.714327</td>\n",
              "      <td>2351973533</td>\n",
              "    </tr>\n",
              "    <tr>\n",
              "      <th>10</th>\n",
              "      <td>15.739517</td>\n",
              "      <td>16.710423</td>\n",
              "      <td>13.441833</td>\n",
              "      <td>14.025925</td>\n",
              "      <td>9.616371</td>\n",
              "      <td>1750434601</td>\n",
              "    </tr>\n",
              "    <tr>\n",
              "      <th>...</th>\n",
              "      <td>...</td>\n",
              "      <td>...</td>\n",
              "      <td>...</td>\n",
              "      <td>...</td>\n",
              "      <td>...</td>\n",
              "      <td>...</td>\n",
              "    </tr>\n",
              "    <tr>\n",
              "      <th>320</th>\n",
              "      <td>2582.649902</td>\n",
              "      <td>2629.699951</td>\n",
              "      <td>2311.000000</td>\n",
              "      <td>2377.750000</td>\n",
              "      <td>2377.750000</td>\n",
              "      <td>118852012</td>\n",
              "    </tr>\n",
              "    <tr>\n",
              "      <th>321</th>\n",
              "      <td>2391.500000</td>\n",
              "      <td>2560.949951</td>\n",
              "      <td>2343.100098</td>\n",
              "      <td>2549.600098</td>\n",
              "      <td>2549.600098</td>\n",
              "      <td>94498167</td>\n",
              "    </tr>\n",
              "    <tr>\n",
              "      <th>322</th>\n",
              "      <td>2600.000000</td>\n",
              "      <td>2745.449951</td>\n",
              "      <td>2502.000000</td>\n",
              "      <td>2731.350098</td>\n",
              "      <td>2731.350098</td>\n",
              "      <td>104414767</td>\n",
              "    </tr>\n",
              "    <tr>\n",
              "      <th>323</th>\n",
              "      <td>2741.800049</td>\n",
              "      <td>2755.000000</td>\n",
              "      <td>2700.600098</td>\n",
              "      <td>2722.149902</td>\n",
              "      <td>2722.149902</td>\n",
              "      <td>9726291</td>\n",
              "    </tr>\n",
              "    <tr>\n",
              "      <th>324</th>\n",
              "      <td>2730.000000</td>\n",
              "      <td>2748.000000</td>\n",
              "      <td>2700.600098</td>\n",
              "      <td>2722.149902</td>\n",
              "      <td>2722.149902</td>\n",
              "      <td>5346727</td>\n",
              "    </tr>\n",
              "  </tbody>\n",
              "</table>\n",
              "<p>317 rows × 6 columns</p>\n",
              "</div>\n",
              "      <button class=\"colab-df-convert\" onclick=\"convertToInteractive('df-99c4eab8-f37d-4390-8cf8-db1bd31ba72f')\"\n",
              "              title=\"Convert this dataframe to an interactive table.\"\n",
              "              style=\"display:none;\">\n",
              "        \n",
              "  <svg xmlns=\"http://www.w3.org/2000/svg\" height=\"24px\"viewBox=\"0 0 24 24\"\n",
              "       width=\"24px\">\n",
              "    <path d=\"M0 0h24v24H0V0z\" fill=\"none\"/>\n",
              "    <path d=\"M18.56 5.44l.94 2.06.94-2.06 2.06-.94-2.06-.94-.94-2.06-.94 2.06-2.06.94zm-11 1L8.5 8.5l.94-2.06 2.06-.94-2.06-.94L8.5 2.5l-.94 2.06-2.06.94zm10 10l.94 2.06.94-2.06 2.06-.94-2.06-.94-.94-2.06-.94 2.06-2.06.94z\"/><path d=\"M17.41 7.96l-1.37-1.37c-.4-.4-.92-.59-1.43-.59-.52 0-1.04.2-1.43.59L10.3 9.45l-7.72 7.72c-.78.78-.78 2.05 0 2.83L4 21.41c.39.39.9.59 1.41.59.51 0 1.02-.2 1.41-.59l7.78-7.78 2.81-2.81c.8-.78.8-2.07 0-2.86zM5.41 20L4 18.59l7.72-7.72 1.47 1.35L5.41 20z\"/>\n",
              "  </svg>\n",
              "      </button>\n",
              "      \n",
              "  <style>\n",
              "    .colab-df-container {\n",
              "      display:flex;\n",
              "      flex-wrap:wrap;\n",
              "      gap: 12px;\n",
              "    }\n",
              "\n",
              "    .colab-df-convert {\n",
              "      background-color: #E8F0FE;\n",
              "      border: none;\n",
              "      border-radius: 50%;\n",
              "      cursor: pointer;\n",
              "      display: none;\n",
              "      fill: #1967D2;\n",
              "      height: 32px;\n",
              "      padding: 0 0 0 0;\n",
              "      width: 32px;\n",
              "    }\n",
              "\n",
              "    .colab-df-convert:hover {\n",
              "      background-color: #E2EBFA;\n",
              "      box-shadow: 0px 1px 2px rgba(60, 64, 67, 0.3), 0px 1px 3px 1px rgba(60, 64, 67, 0.15);\n",
              "      fill: #174EA6;\n",
              "    }\n",
              "\n",
              "    [theme=dark] .colab-df-convert {\n",
              "      background-color: #3B4455;\n",
              "      fill: #D2E3FC;\n",
              "    }\n",
              "\n",
              "    [theme=dark] .colab-df-convert:hover {\n",
              "      background-color: #434B5C;\n",
              "      box-shadow: 0px 1px 3px 1px rgba(0, 0, 0, 0.15);\n",
              "      filter: drop-shadow(0px 1px 2px rgba(0, 0, 0, 0.3));\n",
              "      fill: #FFFFFF;\n",
              "    }\n",
              "  </style>\n",
              "\n",
              "      <script>\n",
              "        const buttonEl =\n",
              "          document.querySelector('#df-99c4eab8-f37d-4390-8cf8-db1bd31ba72f button.colab-df-convert');\n",
              "        buttonEl.style.display =\n",
              "          google.colab.kernel.accessAllowed ? 'block' : 'none';\n",
              "\n",
              "        async function convertToInteractive(key) {\n",
              "          const element = document.querySelector('#df-99c4eab8-f37d-4390-8cf8-db1bd31ba72f');\n",
              "          const dataTable =\n",
              "            await google.colab.kernel.invokeFunction('convertToInteractive',\n",
              "                                                     [key], {});\n",
              "          if (!dataTable) return;\n",
              "\n",
              "          const docLinkHtml = 'Like what you see? Visit the ' +\n",
              "            '<a target=\"_blank\" href=https://colab.research.google.com/notebooks/data_table.ipynb>data table notebook</a>'\n",
              "            + ' to learn more about interactive tables.';\n",
              "          element.innerHTML = '';\n",
              "          dataTable['output_type'] = 'display_data';\n",
              "          await google.colab.output.renderOutput(dataTable, element);\n",
              "          const docLink = document.createElement('div');\n",
              "          docLink.innerHTML = docLinkHtml;\n",
              "          element.appendChild(docLink);\n",
              "        }\n",
              "      </script>\n",
              "    </div>\n",
              "  </div>\n",
              "  "
            ]
          },
          "metadata": {},
          "execution_count": 57
        }
      ]
    },
    {
      "cell_type": "markdown",
      "source": [
        "# **Missing value treatement**"
      ],
      "metadata": {
        "id": "RDiAAjIIOnr1"
      }
    },
    {
      "cell_type": "code",
      "source": [
        "m1=stock['Open'].mean()\n",
        "m2=stock['Volume'].mean()\n",
        "m3=stock['Low'].mean()\n",
        "stock['Open'].fillna(value=m1, inplace=True)\n",
        "stock['Volume'].fillna(value=m2, inplace=True)\n",
        "stock['Low'].fillna(value=m3, inplace=True)\n",
        "stock"
      ],
      "metadata": {
        "colab": {
          "base_uri": "https://localhost:8080/",
          "height": 424
        },
        "id": "WI0zBpzmO0h9",
        "outputId": "d68df7ec-41e6-451c-c6c0-6d6183edd8aa"
      },
      "execution_count": 58,
      "outputs": [
        {
          "output_type": "execute_result",
          "data": {
            "text/plain": [
              "            Open         High          Low        Close    Adj Close  \\\n",
              "5      18.799227    19.452944    16.064442    16.524752    11.329605   \n",
              "7      16.861280    17.019875    15.020040    16.366158    11.220869   \n",
              "8      16.408707    16.625324    14.343113    14.780215    10.133524   \n",
              "9      14.853709    17.089502    13.964034    15.627340    10.714327   \n",
              "10     15.739517    16.710423    13.441833    14.025925     9.616371   \n",
              "..           ...          ...          ...          ...          ...   \n",
              "320  2582.649902  2629.699951  2311.000000  2377.750000  2377.750000   \n",
              "321  2391.500000  2560.949951  2343.100098  2549.600098  2549.600098   \n",
              "322  2600.000000  2745.449951  2502.000000  2731.350098  2731.350098   \n",
              "323  2741.800049  2755.000000  2700.600098  2722.149902  2722.149902   \n",
              "324  2730.000000  2748.000000  2700.600098  2722.149902  2722.149902   \n",
              "\n",
              "         Volume  \n",
              "5    2949582293  \n",
              "7    2675395277  \n",
              "8    1704430739  \n",
              "9    2351973533  \n",
              "10   1750434601  \n",
              "..          ...  \n",
              "320   118852012  \n",
              "321    94498167  \n",
              "322   104414767  \n",
              "323     9726291  \n",
              "324     5346727  \n",
              "\n",
              "[317 rows x 6 columns]"
            ],
            "text/html": [
              "\n",
              "  <div id=\"df-829d26be-8041-4bc6-b553-d93245db821a\">\n",
              "    <div class=\"colab-df-container\">\n",
              "      <div>\n",
              "<style scoped>\n",
              "    .dataframe tbody tr th:only-of-type {\n",
              "        vertical-align: middle;\n",
              "    }\n",
              "\n",
              "    .dataframe tbody tr th {\n",
              "        vertical-align: top;\n",
              "    }\n",
              "\n",
              "    .dataframe thead th {\n",
              "        text-align: right;\n",
              "    }\n",
              "</style>\n",
              "<table border=\"1\" class=\"dataframe\">\n",
              "  <thead>\n",
              "    <tr style=\"text-align: right;\">\n",
              "      <th></th>\n",
              "      <th>Open</th>\n",
              "      <th>High</th>\n",
              "      <th>Low</th>\n",
              "      <th>Close</th>\n",
              "      <th>Adj Close</th>\n",
              "      <th>Volume</th>\n",
              "    </tr>\n",
              "  </thead>\n",
              "  <tbody>\n",
              "    <tr>\n",
              "      <th>5</th>\n",
              "      <td>18.799227</td>\n",
              "      <td>19.452944</td>\n",
              "      <td>16.064442</td>\n",
              "      <td>16.524752</td>\n",
              "      <td>11.329605</td>\n",
              "      <td>2949582293</td>\n",
              "    </tr>\n",
              "    <tr>\n",
              "      <th>7</th>\n",
              "      <td>16.861280</td>\n",
              "      <td>17.019875</td>\n",
              "      <td>15.020040</td>\n",
              "      <td>16.366158</td>\n",
              "      <td>11.220869</td>\n",
              "      <td>2675395277</td>\n",
              "    </tr>\n",
              "    <tr>\n",
              "      <th>8</th>\n",
              "      <td>16.408707</td>\n",
              "      <td>16.625324</td>\n",
              "      <td>14.343113</td>\n",
              "      <td>14.780215</td>\n",
              "      <td>10.133524</td>\n",
              "      <td>1704430739</td>\n",
              "    </tr>\n",
              "    <tr>\n",
              "      <th>9</th>\n",
              "      <td>14.853709</td>\n",
              "      <td>17.089502</td>\n",
              "      <td>13.964034</td>\n",
              "      <td>15.627340</td>\n",
              "      <td>10.714327</td>\n",
              "      <td>2351973533</td>\n",
              "    </tr>\n",
              "    <tr>\n",
              "      <th>10</th>\n",
              "      <td>15.739517</td>\n",
              "      <td>16.710423</td>\n",
              "      <td>13.441833</td>\n",
              "      <td>14.025925</td>\n",
              "      <td>9.616371</td>\n",
              "      <td>1750434601</td>\n",
              "    </tr>\n",
              "    <tr>\n",
              "      <th>...</th>\n",
              "      <td>...</td>\n",
              "      <td>...</td>\n",
              "      <td>...</td>\n",
              "      <td>...</td>\n",
              "      <td>...</td>\n",
              "      <td>...</td>\n",
              "    </tr>\n",
              "    <tr>\n",
              "      <th>320</th>\n",
              "      <td>2582.649902</td>\n",
              "      <td>2629.699951</td>\n",
              "      <td>2311.000000</td>\n",
              "      <td>2377.750000</td>\n",
              "      <td>2377.750000</td>\n",
              "      <td>118852012</td>\n",
              "    </tr>\n",
              "    <tr>\n",
              "      <th>321</th>\n",
              "      <td>2391.500000</td>\n",
              "      <td>2560.949951</td>\n",
              "      <td>2343.100098</td>\n",
              "      <td>2549.600098</td>\n",
              "      <td>2549.600098</td>\n",
              "      <td>94498167</td>\n",
              "    </tr>\n",
              "    <tr>\n",
              "      <th>322</th>\n",
              "      <td>2600.000000</td>\n",
              "      <td>2745.449951</td>\n",
              "      <td>2502.000000</td>\n",
              "      <td>2731.350098</td>\n",
              "      <td>2731.350098</td>\n",
              "      <td>104414767</td>\n",
              "    </tr>\n",
              "    <tr>\n",
              "      <th>323</th>\n",
              "      <td>2741.800049</td>\n",
              "      <td>2755.000000</td>\n",
              "      <td>2700.600098</td>\n",
              "      <td>2722.149902</td>\n",
              "      <td>2722.149902</td>\n",
              "      <td>9726291</td>\n",
              "    </tr>\n",
              "    <tr>\n",
              "      <th>324</th>\n",
              "      <td>2730.000000</td>\n",
              "      <td>2748.000000</td>\n",
              "      <td>2700.600098</td>\n",
              "      <td>2722.149902</td>\n",
              "      <td>2722.149902</td>\n",
              "      <td>5346727</td>\n",
              "    </tr>\n",
              "  </tbody>\n",
              "</table>\n",
              "<p>317 rows × 6 columns</p>\n",
              "</div>\n",
              "      <button class=\"colab-df-convert\" onclick=\"convertToInteractive('df-829d26be-8041-4bc6-b553-d93245db821a')\"\n",
              "              title=\"Convert this dataframe to an interactive table.\"\n",
              "              style=\"display:none;\">\n",
              "        \n",
              "  <svg xmlns=\"http://www.w3.org/2000/svg\" height=\"24px\"viewBox=\"0 0 24 24\"\n",
              "       width=\"24px\">\n",
              "    <path d=\"M0 0h24v24H0V0z\" fill=\"none\"/>\n",
              "    <path d=\"M18.56 5.44l.94 2.06.94-2.06 2.06-.94-2.06-.94-.94-2.06-.94 2.06-2.06.94zm-11 1L8.5 8.5l.94-2.06 2.06-.94-2.06-.94L8.5 2.5l-.94 2.06-2.06.94zm10 10l.94 2.06.94-2.06 2.06-.94-2.06-.94-.94-2.06-.94 2.06-2.06.94z\"/><path d=\"M17.41 7.96l-1.37-1.37c-.4-.4-.92-.59-1.43-.59-.52 0-1.04.2-1.43.59L10.3 9.45l-7.72 7.72c-.78.78-.78 2.05 0 2.83L4 21.41c.39.39.9.59 1.41.59.51 0 1.02-.2 1.41-.59l7.78-7.78 2.81-2.81c.8-.78.8-2.07 0-2.86zM5.41 20L4 18.59l7.72-7.72 1.47 1.35L5.41 20z\"/>\n",
              "  </svg>\n",
              "      </button>\n",
              "      \n",
              "  <style>\n",
              "    .colab-df-container {\n",
              "      display:flex;\n",
              "      flex-wrap:wrap;\n",
              "      gap: 12px;\n",
              "    }\n",
              "\n",
              "    .colab-df-convert {\n",
              "      background-color: #E8F0FE;\n",
              "      border: none;\n",
              "      border-radius: 50%;\n",
              "      cursor: pointer;\n",
              "      display: none;\n",
              "      fill: #1967D2;\n",
              "      height: 32px;\n",
              "      padding: 0 0 0 0;\n",
              "      width: 32px;\n",
              "    }\n",
              "\n",
              "    .colab-df-convert:hover {\n",
              "      background-color: #E2EBFA;\n",
              "      box-shadow: 0px 1px 2px rgba(60, 64, 67, 0.3), 0px 1px 3px 1px rgba(60, 64, 67, 0.15);\n",
              "      fill: #174EA6;\n",
              "    }\n",
              "\n",
              "    [theme=dark] .colab-df-convert {\n",
              "      background-color: #3B4455;\n",
              "      fill: #D2E3FC;\n",
              "    }\n",
              "\n",
              "    [theme=dark] .colab-df-convert:hover {\n",
              "      background-color: #434B5C;\n",
              "      box-shadow: 0px 1px 3px 1px rgba(0, 0, 0, 0.15);\n",
              "      filter: drop-shadow(0px 1px 2px rgba(0, 0, 0, 0.3));\n",
              "      fill: #FFFFFF;\n",
              "    }\n",
              "  </style>\n",
              "\n",
              "      <script>\n",
              "        const buttonEl =\n",
              "          document.querySelector('#df-829d26be-8041-4bc6-b553-d93245db821a button.colab-df-convert');\n",
              "        buttonEl.style.display =\n",
              "          google.colab.kernel.accessAllowed ? 'block' : 'none';\n",
              "\n",
              "        async function convertToInteractive(key) {\n",
              "          const element = document.querySelector('#df-829d26be-8041-4bc6-b553-d93245db821a');\n",
              "          const dataTable =\n",
              "            await google.colab.kernel.invokeFunction('convertToInteractive',\n",
              "                                                     [key], {});\n",
              "          if (!dataTable) return;\n",
              "\n",
              "          const docLinkHtml = 'Like what you see? Visit the ' +\n",
              "            '<a target=\"_blank\" href=https://colab.research.google.com/notebooks/data_table.ipynb>data table notebook</a>'\n",
              "            + ' to learn more about interactive tables.';\n",
              "          element.innerHTML = '';\n",
              "          dataTable['output_type'] = 'display_data';\n",
              "          await google.colab.output.renderOutput(dataTable, element);\n",
              "          const docLink = document.createElement('div');\n",
              "          docLink.innerHTML = docLinkHtml;\n",
              "          element.appendChild(docLink);\n",
              "        }\n",
              "      </script>\n",
              "    </div>\n",
              "  </div>\n",
              "  "
            ]
          },
          "metadata": {},
          "execution_count": 58
        }
      ]
    },
    {
      "cell_type": "markdown",
      "source": [
        "# **Data normalization**"
      ],
      "metadata": {
        "id": "WrF_aPCvPbAL"
      }
    },
    {
      "cell_type": "code",
      "source": [
        "from sklearn.preprocessing import MinMaxScaler\n",
        "scaler = MinMaxScaler()\n",
        "stock_norm = scaler.fit_transform(stock)\n",
        "\n",
        "stock_norm\n"
      ],
      "metadata": {
        "colab": {
          "base_uri": "https://localhost:8080/"
        },
        "id": "Lu1uvldUPfXw",
        "outputId": "37fc3e6f-7f37-451b-f3e8-6079f5a21f18"
      },
      "execution_count": 59,
      "outputs": [
        {
          "output_type": "execute_result",
          "data": {
            "text/plain": [
              "array([[1.76653432e-03, 1.10194627e-03, 9.75978614e-04, 9.00081165e-04,\n",
              "        6.17992233e-04, 9.12624120e-01],\n",
              "       [1.06132762e-03, 2.45179433e-04, 5.87314495e-04, 8.42955373e-04,\n",
              "        5.78769335e-04, 8.27634424e-01],\n",
              "       [8.96639159e-04, 1.06244527e-04, 3.35402649e-04, 2.71696369e-04,\n",
              "        1.86545759e-04, 5.26664737e-01],\n",
              "       ...,\n",
              "       [9.41049221e-01, 9.61018760e-01, 9.26092891e-01, 9.78784169e-01,\n",
              "        9.81774997e-01, 3.07081009e-02],\n",
              "       [9.92649365e-01, 9.64381659e-01, 1.00000000e+00, 9.75470244e-01,\n",
              "        9.78456332e-01, 1.35753259e-03],\n",
              "       [9.88355402e-01, 9.61916719e-01, 1.00000000e+00, 9.75470244e-01,\n",
              "        9.78456332e-01, 0.00000000e+00]])"
            ]
          },
          "metadata": {},
          "execution_count": 59
        }
      ]
    },
    {
      "cell_type": "code",
      "source": [
        "x1=stock.drop('High',axis=1)\n",
        "\n",
        "y1=stock['High']\n",
        "\n",
        "print(type(x1))\n",
        "print(type(y1))\n",
        "print(x1.shape)\n",
        "print(y1.shape)"
      ],
      "metadata": {
        "colab": {
          "base_uri": "https://localhost:8080/"
        },
        "id": "kRrvBHUvVQeF",
        "outputId": "e766a1dc-f567-4d78-91c9-665099f8a82e"
      },
      "execution_count": 60,
      "outputs": [
        {
          "output_type": "stream",
          "name": "stdout",
          "text": [
            "<class 'pandas.core.frame.DataFrame'>\n",
            "<class 'pandas.core.series.Series'>\n",
            "(317, 5)\n",
            "(317,)\n"
          ]
        }
      ]
    },
    {
      "cell_type": "markdown",
      "source": [
        "# **Data Split**"
      ],
      "metadata": {
        "id": "9SVPR76YPtwU"
      }
    },
    {
      "cell_type": "code",
      "source": [
        "from sklearn.model_selection import train_test_split\n"
      ],
      "metadata": {
        "id": "ru3rUdEVPwQj"
      },
      "execution_count": 61,
      "outputs": []
    },
    {
      "cell_type": "code",
      "source": [
        "x1_train,x1_test,y1_train,y1_test=train_test_split(x1,y1,test_size=0.2)\n",
        "print(x1_train.shape)\n",
        "print(x1_test.shape)\n",
        "print(y1_train.shape)\n",
        "print(y1_test.shape)"
      ],
      "metadata": {
        "colab": {
          "base_uri": "https://localhost:8080/"
        },
        "id": "IlDl3DLIU6Yw",
        "outputId": "66813358-e4e8-4395-8ba5-fb0bb68520a9"
      },
      "execution_count": 62,
      "outputs": [
        {
          "output_type": "stream",
          "name": "stdout",
          "text": [
            "(253, 5)\n",
            "(64, 5)\n",
            "(253,)\n",
            "(64,)\n"
          ]
        }
      ]
    },
    {
      "cell_type": "markdown",
      "source": [
        "# **creating confussion matrix of class report**"
      ],
      "metadata": {
        "id": "f75_jk2BTfzU"
      }
    },
    {
      "cell_type": "code",
      "source": [
        "from sklearn.metrics import confusion_matrix,classification_report,accuracy_score"
      ],
      "metadata": {
        "id": "9yLhBnuWThaJ"
      },
      "execution_count": 63,
      "outputs": []
    },
    {
      "cell_type": "code",
      "source": [
        "def eval_model(y1_test,y1pred):\n",
        "  cm=confusion_matrix(y1_test,y1pred)\n",
        "  print(cm)\n",
        "  print('accuracy score',accuracy_score(y1_test,y1pred))\n",
        "  print(classification_report(y1_test,y1pred))\n",
        "def mscore(model):\n",
        "  print('training score',model.score(x1_train,y1_train))\n",
        "  print('testing score',model.score(x1_test,y1_test))"
      ],
      "metadata": {
        "id": "datTXky2Tl8t"
      },
      "execution_count": 64,
      "outputs": []
    },
    {
      "cell_type": "markdown",
      "source": [
        "# **modeling**"
      ],
      "metadata": {
        "id": "1kbnjdAzSCqz"
      }
    },
    {
      "cell_type": "code",
      "source": [
        "from sklearn.linear_model import LinearRegression"
      ],
      "metadata": {
        "id": "Qb62PUGSSHbi"
      },
      "execution_count": 65,
      "outputs": []
    },
    {
      "cell_type": "code",
      "source": [
        "m1=LinearRegression()\n",
        "m1.fit(x1_train,y1_train)"
      ],
      "metadata": {
        "colab": {
          "base_uri": "https://localhost:8080/"
        },
        "id": "dIyO5dNAN_S0",
        "outputId": "aa0a68c8-5093-4453-ab06-e14201d7d0c3"
      },
      "execution_count": 66,
      "outputs": [
        {
          "output_type": "execute_result",
          "data": {
            "text/plain": [
              "LinearRegression()"
            ]
          },
          "metadata": {},
          "execution_count": 66
        }
      ]
    },
    {
      "cell_type": "markdown",
      "source": [
        "# **y=mx+c**"
      ],
      "metadata": {
        "id": "tGWbhrWMZHjp"
      }
    },
    {
      "cell_type": "code",
      "source": [
        "m=m1.coef_\n",
        "c=m1.intercept_"
      ],
      "metadata": {
        "id": "zyJKk5rFZF9C"
      },
      "execution_count": 67,
      "outputs": []
    },
    {
      "cell_type": "code",
      "source": [
        "mscore(m1)"
      ],
      "metadata": {
        "colab": {
          "base_uri": "https://localhost:8080/"
        },
        "id": "m-M7w6d5SQUO",
        "outputId": "0c3b0b53-b92a-4a2b-ffe5-1b731d2d9c99"
      },
      "execution_count": 68,
      "outputs": [
        {
          "output_type": "stream",
          "name": "stdout",
          "text": [
            "training score 0.9985117824284477\n",
            "testing score 0.9985142000793412\n"
          ]
        }
      ]
    },
    {
      "cell_type": "markdown",
      "source": [
        "# **Prediction on Training and Testing Data**"
      ],
      "metadata": {
        "id": "F-mojIRiVb8u"
      }
    },
    {
      "cell_type": "code",
      "source": [
        "y_pred_test =  m1.predict(x1_test)\n",
        "y_pred_train =  m1.predict(x1_train)"
      ],
      "metadata": {
        "id": "Y2A5JAdQQgif"
      },
      "execution_count": 69,
      "outputs": []
    },
    {
      "cell_type": "markdown",
      "source": [
        "# **Error Metrics Computation**"
      ],
      "metadata": {
        "id": "whti88ZMVuhT"
      }
    },
    {
      "cell_type": "code",
      "source": [
        "import math\n",
        "from sklearn.metrics import mean_squared_error \n",
        "from sklearn.metrics import mean_absolute_error\n",
        "\n",
        "\n",
        "#Training Accuracies\n",
        "rmse = math.sqrt(mean_squared_error(y1_train, y_pred_train)) \n",
        "print('Root mean square error', rmse) \n",
        "mse = (mean_squared_error(y1_train, y_pred_train)) \n",
        "print('Mean square error', mse) \n",
        "mae=mean_absolute_error(y1_train, y_pred_train)\n",
        "print('Mean absolute error', mae)"
      ],
      "metadata": {
        "colab": {
          "base_uri": "https://localhost:8080/"
        },
        "id": "PhuQ7gMNRB_v",
        "outputId": "ddaf03e9-ad9d-4a1f-b193-7992f5068822"
      },
      "execution_count": 70,
      "outputs": [
        {
          "output_type": "stream",
          "name": "stdout",
          "text": [
            "Root mean square error 27.353607739959198\n",
            "Mean square error 748.2198563915557\n",
            "Mean absolute error 16.088556500946737\n"
          ]
        }
      ]
    },
    {
      "cell_type": "code",
      "source": [
        "#Training Accuracies\n",
        "rmse = math.sqrt(mean_squared_error(y1_test, y_pred_test)) \n",
        "print('Root mean square error', rmse) \n",
        "mse = (mean_squared_error(y1_test, y_pred_test)) \n",
        "print('Mean square error', mse) \n",
        "mae=mean_absolute_error(y1_test, y_pred_test)\n",
        "print('Mean absolute error', mae)"
      ],
      "metadata": {
        "colab": {
          "base_uri": "https://localhost:8080/"
        },
        "id": "8T6oQPjDRTDk",
        "outputId": "26cdf15a-d609-4498-d049-560af0962518"
      },
      "execution_count": 71,
      "outputs": [
        {
          "output_type": "stream",
          "name": "stdout",
          "text": [
            "Root mean square error 28.407964164149135\n",
            "Mean square error 807.0124279515815\n",
            "Mean absolute error 15.090118660717334\n"
          ]
        }
      ]
    },
    {
      "cell_type": "markdown",
      "source": [
        "# **model saving**"
      ],
      "metadata": {
        "id": "wGGy_sXdV0mE"
      }
    },
    {
      "cell_type": "code",
      "source": [
        "import pickle\n",
        "# Save the model\n",
        "filename = 'model.pkl'\n",
        "pickle.dump(m1, open(filename, 'wb'))"
      ],
      "metadata": {
        "id": "8iAIPq70N7S1"
      },
      "execution_count": 72,
      "outputs": []
    },
    {
      "cell_type": "markdown",
      "source": [
        "# **Deployment**"
      ],
      "metadata": {
        "id": "7cN6nYxOV5hb"
      }
    },
    {
      "cell_type": "code",
      "source": [
        "list_of_columns = stock.columns\n",
        "input_data=pd.DataFrame(columns=list_of_columns)\n",
        "input_data.drop(['High'], axis='columns', inplace=True)\n",
        "\n",
        "\n",
        "\n",
        "input_data.at[0, 'Low'] = input('enter Low value')\n",
        "input_data.at[0, 'Open'] = input('enter Open value')\n",
        "input_data.at[0, 'Close'] = input('enter Close value')\n",
        "input_data.at[0, 'Aclose'] = input('enter Adj Close value')\n",
        "input_data.at[0, 'Volume'] = input('enter Volume')"
      ],
      "metadata": {
        "colab": {
          "base_uri": "https://localhost:8080/"
        },
        "id": "upfe1mteRm4T",
        "outputId": "3852d411-bc47-4241-d849-8b5ec3d7e64b"
      },
      "execution_count": 73,
      "outputs": [
        {
          "name": "stdout",
          "output_type": "stream",
          "text": [
            "enter Low value13.34\n",
            "enter Open value14.97\n",
            "enter Close value13.89\n",
            "enter Adj Close value14.98\n",
            "enter Volume514367873\n"
          ]
        }
      ]
    },
    {
      "cell_type": "markdown",
      "source": [
        "# **Testing the model**"
      ],
      "metadata": {
        "id": "IwLxVC2WYBgD"
      }
    },
    {
      "cell_type": "code",
      "source": [
        "def gen_model(model,x1_test,x1_train,y1_test,y1_train):\n",
        "  model.fit(x1_train,y1_train)\n",
        "  print('training score',model.score(x1_train,y1_train))\n",
        "  print('testing score',model.score(x1_test,y1_test))\n",
        "  ypred=model.predict(x1_test,y1_test)\n",
        "  cm=confusion_matrix(y1_test,y_pred_test)\n",
        "  print(cm)\n",
        "  print(classification_report(y1_test,y_pred_test))"
      ],
      "metadata": {
        "id": "LFhVvgOSSmpc"
      },
      "execution_count": 92,
      "outputs": []
    },
    {
      "cell_type": "code",
      "source": [
        "print(y_pred_test.shape)"
      ],
      "metadata": {
        "colab": {
          "base_uri": "https://localhost:8080/"
        },
        "id": "Pt1iAho2K9ip",
        "outputId": "160db576-bf5a-44f4-ba1b-8b16e2e90317"
      },
      "execution_count": 95,
      "outputs": [
        {
          "output_type": "stream",
          "name": "stdout",
          "text": [
            "(64,)\n"
          ]
        }
      ]
    },
    {
      "cell_type": "code",
      "source": [
        "x1_test.columns"
      ],
      "metadata": {
        "colab": {
          "base_uri": "https://localhost:8080/"
        },
        "id": "MzuUYSXITVNf",
        "outputId": "19c4158e-57fb-4c89-869b-49a9a5a22d09"
      },
      "execution_count": 93,
      "outputs": [
        {
          "output_type": "execute_result",
          "data": {
            "text/plain": [
              "Index(['Open', 'Low', 'Close', 'Adj Close', 'Volume'], dtype='object')"
            ]
          },
          "metadata": {},
          "execution_count": 93
        }
      ]
    },
    {
      "cell_type": "markdown",
      "source": [],
      "metadata": {
        "id": "fBnwhP2vYAqa"
      }
    },
    {
      "cell_type": "code",
      "source": [
        "submission_test=pd.DataFrame({'Test_Open':x1_test['Open'],'Test_Close':x1_test['Close'],'Test_Volume':x1_test['Volume'],'Test_Low':x1_test['Low'],'pred_High':y_pred_test})\n",
        "submission_test.head(10)"
      ],
      "metadata": {
        "colab": {
          "base_uri": "https://localhost:8080/",
          "height": 363
        },
        "id": "2G_O7CFOTLgd",
        "outputId": "60c9f71a-1826-4c35-e931-b006e15c019d"
      },
      "execution_count": 94,
      "outputs": [
        {
          "output_type": "execute_result",
          "data": {
            "text/plain": [
              "       Test_Open   Test_Close  Test_Volume     Test_Low    pred_High\n",
              "128   276.132538   290.186829    291030689   265.755890   307.732712\n",
              "239   477.474030   502.536469    133941578   452.139160   524.634671\n",
              "39     20.253653    20.988602    644725399    17.955969    22.093747\n",
              "197   350.354004   365.460785    134825630   333.538391   384.141293\n",
              "210   426.952911   431.930725    153575175   415.560913   453.572297\n",
              "305  2166.000000  2110.649902    232391973  2081.000000  2224.720195\n",
              "265   954.205078   945.586792    146310388   862.821289  1012.288466\n",
              "135   335.569153   386.597931    189606796   323.248413   402.221310\n",
              "90     50.448460    55.376488    874227491    50.015224    58.505375\n",
              "289  1392.104248  1316.173950    185522260  1312.558228  1404.647488"
            ],
            "text/html": [
              "\n",
              "  <div id=\"df-4b270eb3-fe4e-40bf-8e70-be999ef13f06\">\n",
              "    <div class=\"colab-df-container\">\n",
              "      <div>\n",
              "<style scoped>\n",
              "    .dataframe tbody tr th:only-of-type {\n",
              "        vertical-align: middle;\n",
              "    }\n",
              "\n",
              "    .dataframe tbody tr th {\n",
              "        vertical-align: top;\n",
              "    }\n",
              "\n",
              "    .dataframe thead th {\n",
              "        text-align: right;\n",
              "    }\n",
              "</style>\n",
              "<table border=\"1\" class=\"dataframe\">\n",
              "  <thead>\n",
              "    <tr style=\"text-align: right;\">\n",
              "      <th></th>\n",
              "      <th>Test_Open</th>\n",
              "      <th>Test_Close</th>\n",
              "      <th>Test_Volume</th>\n",
              "      <th>Test_Low</th>\n",
              "      <th>pred_High</th>\n",
              "    </tr>\n",
              "  </thead>\n",
              "  <tbody>\n",
              "    <tr>\n",
              "      <th>128</th>\n",
              "      <td>276.132538</td>\n",
              "      <td>290.186829</td>\n",
              "      <td>291030689</td>\n",
              "      <td>265.755890</td>\n",
              "      <td>307.732712</td>\n",
              "    </tr>\n",
              "    <tr>\n",
              "      <th>239</th>\n",
              "      <td>477.474030</td>\n",
              "      <td>502.536469</td>\n",
              "      <td>133941578</td>\n",
              "      <td>452.139160</td>\n",
              "      <td>524.634671</td>\n",
              "    </tr>\n",
              "    <tr>\n",
              "      <th>39</th>\n",
              "      <td>20.253653</td>\n",
              "      <td>20.988602</td>\n",
              "      <td>644725399</td>\n",
              "      <td>17.955969</td>\n",
              "      <td>22.093747</td>\n",
              "    </tr>\n",
              "    <tr>\n",
              "      <th>197</th>\n",
              "      <td>350.354004</td>\n",
              "      <td>365.460785</td>\n",
              "      <td>134825630</td>\n",
              "      <td>333.538391</td>\n",
              "      <td>384.141293</td>\n",
              "    </tr>\n",
              "    <tr>\n",
              "      <th>210</th>\n",
              "      <td>426.952911</td>\n",
              "      <td>431.930725</td>\n",
              "      <td>153575175</td>\n",
              "      <td>415.560913</td>\n",
              "      <td>453.572297</td>\n",
              "    </tr>\n",
              "    <tr>\n",
              "      <th>305</th>\n",
              "      <td>2166.000000</td>\n",
              "      <td>2110.649902</td>\n",
              "      <td>232391973</td>\n",
              "      <td>2081.000000</td>\n",
              "      <td>2224.720195</td>\n",
              "    </tr>\n",
              "    <tr>\n",
              "      <th>265</th>\n",
              "      <td>954.205078</td>\n",
              "      <td>945.586792</td>\n",
              "      <td>146310388</td>\n",
              "      <td>862.821289</td>\n",
              "      <td>1012.288466</td>\n",
              "    </tr>\n",
              "    <tr>\n",
              "      <th>135</th>\n",
              "      <td>335.569153</td>\n",
              "      <td>386.597931</td>\n",
              "      <td>189606796</td>\n",
              "      <td>323.248413</td>\n",
              "      <td>402.221310</td>\n",
              "    </tr>\n",
              "    <tr>\n",
              "      <th>90</th>\n",
              "      <td>50.448460</td>\n",
              "      <td>55.376488</td>\n",
              "      <td>874227491</td>\n",
              "      <td>50.015224</td>\n",
              "      <td>58.505375</td>\n",
              "    </tr>\n",
              "    <tr>\n",
              "      <th>289</th>\n",
              "      <td>1392.104248</td>\n",
              "      <td>1316.173950</td>\n",
              "      <td>185522260</td>\n",
              "      <td>1312.558228</td>\n",
              "      <td>1404.647488</td>\n",
              "    </tr>\n",
              "  </tbody>\n",
              "</table>\n",
              "</div>\n",
              "      <button class=\"colab-df-convert\" onclick=\"convertToInteractive('df-4b270eb3-fe4e-40bf-8e70-be999ef13f06')\"\n",
              "              title=\"Convert this dataframe to an interactive table.\"\n",
              "              style=\"display:none;\">\n",
              "        \n",
              "  <svg xmlns=\"http://www.w3.org/2000/svg\" height=\"24px\"viewBox=\"0 0 24 24\"\n",
              "       width=\"24px\">\n",
              "    <path d=\"M0 0h24v24H0V0z\" fill=\"none\"/>\n",
              "    <path d=\"M18.56 5.44l.94 2.06.94-2.06 2.06-.94-2.06-.94-.94-2.06-.94 2.06-2.06.94zm-11 1L8.5 8.5l.94-2.06 2.06-.94-2.06-.94L8.5 2.5l-.94 2.06-2.06.94zm10 10l.94 2.06.94-2.06 2.06-.94-2.06-.94-.94-2.06-.94 2.06-2.06.94z\"/><path d=\"M17.41 7.96l-1.37-1.37c-.4-.4-.92-.59-1.43-.59-.52 0-1.04.2-1.43.59L10.3 9.45l-7.72 7.72c-.78.78-.78 2.05 0 2.83L4 21.41c.39.39.9.59 1.41.59.51 0 1.02-.2 1.41-.59l7.78-7.78 2.81-2.81c.8-.78.8-2.07 0-2.86zM5.41 20L4 18.59l7.72-7.72 1.47 1.35L5.41 20z\"/>\n",
              "  </svg>\n",
              "      </button>\n",
              "      \n",
              "  <style>\n",
              "    .colab-df-container {\n",
              "      display:flex;\n",
              "      flex-wrap:wrap;\n",
              "      gap: 12px;\n",
              "    }\n",
              "\n",
              "    .colab-df-convert {\n",
              "      background-color: #E8F0FE;\n",
              "      border: none;\n",
              "      border-radius: 50%;\n",
              "      cursor: pointer;\n",
              "      display: none;\n",
              "      fill: #1967D2;\n",
              "      height: 32px;\n",
              "      padding: 0 0 0 0;\n",
              "      width: 32px;\n",
              "    }\n",
              "\n",
              "    .colab-df-convert:hover {\n",
              "      background-color: #E2EBFA;\n",
              "      box-shadow: 0px 1px 2px rgba(60, 64, 67, 0.3), 0px 1px 3px 1px rgba(60, 64, 67, 0.15);\n",
              "      fill: #174EA6;\n",
              "    }\n",
              "\n",
              "    [theme=dark] .colab-df-convert {\n",
              "      background-color: #3B4455;\n",
              "      fill: #D2E3FC;\n",
              "    }\n",
              "\n",
              "    [theme=dark] .colab-df-convert:hover {\n",
              "      background-color: #434B5C;\n",
              "      box-shadow: 0px 1px 3px 1px rgba(0, 0, 0, 0.15);\n",
              "      filter: drop-shadow(0px 1px 2px rgba(0, 0, 0, 0.3));\n",
              "      fill: #FFFFFF;\n",
              "    }\n",
              "  </style>\n",
              "\n",
              "      <script>\n",
              "        const buttonEl =\n",
              "          document.querySelector('#df-4b270eb3-fe4e-40bf-8e70-be999ef13f06 button.colab-df-convert');\n",
              "        buttonEl.style.display =\n",
              "          google.colab.kernel.accessAllowed ? 'block' : 'none';\n",
              "\n",
              "        async function convertToInteractive(key) {\n",
              "          const element = document.querySelector('#df-4b270eb3-fe4e-40bf-8e70-be999ef13f06');\n",
              "          const dataTable =\n",
              "            await google.colab.kernel.invokeFunction('convertToInteractive',\n",
              "                                                     [key], {});\n",
              "          if (!dataTable) return;\n",
              "\n",
              "          const docLinkHtml = 'Like what you see? Visit the ' +\n",
              "            '<a target=\"_blank\" href=https://colab.research.google.com/notebooks/data_table.ipynb>data table notebook</a>'\n",
              "            + ' to learn more about interactive tables.';\n",
              "          element.innerHTML = '';\n",
              "          dataTable['output_type'] = 'display_data';\n",
              "          await google.colab.output.renderOutput(dataTable, element);\n",
              "          const docLink = document.createElement('div');\n",
              "          docLink.innerHTML = docLinkHtml;\n",
              "          element.appendChild(docLink);\n",
              "        }\n",
              "      </script>\n",
              "    </div>\n",
              "  </div>\n",
              "  "
            ]
          },
          "metadata": {},
          "execution_count": 94
        }
      ]
    },
    {
      "cell_type": "markdown",
      "source": [
        "# **Thank you**"
      ],
      "metadata": {
        "id": "RjtKfHslWChy"
      }
    }
  ]
}